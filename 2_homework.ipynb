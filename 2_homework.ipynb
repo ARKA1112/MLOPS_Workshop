{
 "cells": [
  {
   "cell_type": "code",
   "execution_count": 7,
   "metadata": {},
   "outputs": [],
   "source": [
    "import pandas as pd\n",
    "import numpy as np\n",
    "from sklearn.feature_extraction import DictVectorizer\n",
    "from sklearn.pipeline import Pipeline\n",
    "\n",
    "import mlflow\n",
    "from sklearn.ensemble import RandomForestRegressor\n",
    "from sklearn.metrics import mean_squared_error"
   ]
  },
  {
   "cell_type": "code",
   "execution_count": 2,
   "metadata": {},
   "outputs": [],
   "source": [
    "train = pd.read_parquet(\"https://d37ci6vzurychx.cloudfront.net/trip-data/green_tripdata_2022-01.parquet\")\n",
    "\n",
    "val  = pd.read_parquet('https://d37ci6vzurychx.cloudfront.net/trip-data/green_tripdata_2022-02.parquet')\n",
    "\n",
    "test = pd.read_parquet('https://d37ci6vzurychx.cloudfront.net/trip-data/green_tripdata_2022-03.parquet')"
   ]
  },
  {
   "cell_type": "code",
   "execution_count": 3,
   "metadata": {},
   "outputs": [
    {
     "data": {
      "text/html": [
       "<div>\n",
       "<style scoped>\n",
       "    .dataframe tbody tr th:only-of-type {\n",
       "        vertical-align: middle;\n",
       "    }\n",
       "\n",
       "    .dataframe tbody tr th {\n",
       "        vertical-align: top;\n",
       "    }\n",
       "\n",
       "    .dataframe thead th {\n",
       "        text-align: right;\n",
       "    }\n",
       "</style>\n",
       "<table border=\"1\" class=\"dataframe\">\n",
       "  <thead>\n",
       "    <tr style=\"text-align: right;\">\n",
       "      <th></th>\n",
       "      <th>VendorID</th>\n",
       "      <th>lpep_pickup_datetime</th>\n",
       "      <th>lpep_dropoff_datetime</th>\n",
       "      <th>store_and_fwd_flag</th>\n",
       "      <th>RatecodeID</th>\n",
       "      <th>PULocationID</th>\n",
       "      <th>DOLocationID</th>\n",
       "      <th>passenger_count</th>\n",
       "      <th>trip_distance</th>\n",
       "      <th>fare_amount</th>\n",
       "      <th>extra</th>\n",
       "      <th>mta_tax</th>\n",
       "      <th>tip_amount</th>\n",
       "      <th>tolls_amount</th>\n",
       "      <th>ehail_fee</th>\n",
       "      <th>improvement_surcharge</th>\n",
       "      <th>total_amount</th>\n",
       "      <th>payment_type</th>\n",
       "      <th>trip_type</th>\n",
       "      <th>congestion_surcharge</th>\n",
       "    </tr>\n",
       "  </thead>\n",
       "  <tbody>\n",
       "    <tr>\n",
       "      <th>0</th>\n",
       "      <td>2</td>\n",
       "      <td>2022-01-01 00:14:21</td>\n",
       "      <td>2022-01-01 00:15:33</td>\n",
       "      <td>N</td>\n",
       "      <td>1.0</td>\n",
       "      <td>42</td>\n",
       "      <td>42</td>\n",
       "      <td>1.0</td>\n",
       "      <td>0.44</td>\n",
       "      <td>3.5</td>\n",
       "      <td>0.50</td>\n",
       "      <td>0.5</td>\n",
       "      <td>0.00</td>\n",
       "      <td>0.0</td>\n",
       "      <td>None</td>\n",
       "      <td>0.3</td>\n",
       "      <td>4.80</td>\n",
       "      <td>2.0</td>\n",
       "      <td>1.0</td>\n",
       "      <td>0.00</td>\n",
       "    </tr>\n",
       "    <tr>\n",
       "      <th>1</th>\n",
       "      <td>1</td>\n",
       "      <td>2022-01-01 00:20:55</td>\n",
       "      <td>2022-01-01 00:29:38</td>\n",
       "      <td>N</td>\n",
       "      <td>1.0</td>\n",
       "      <td>116</td>\n",
       "      <td>41</td>\n",
       "      <td>1.0</td>\n",
       "      <td>2.10</td>\n",
       "      <td>9.5</td>\n",
       "      <td>0.50</td>\n",
       "      <td>0.5</td>\n",
       "      <td>0.00</td>\n",
       "      <td>0.0</td>\n",
       "      <td>None</td>\n",
       "      <td>0.3</td>\n",
       "      <td>10.80</td>\n",
       "      <td>2.0</td>\n",
       "      <td>1.0</td>\n",
       "      <td>0.00</td>\n",
       "    </tr>\n",
       "    <tr>\n",
       "      <th>2</th>\n",
       "      <td>1</td>\n",
       "      <td>2022-01-01 00:57:02</td>\n",
       "      <td>2022-01-01 01:13:14</td>\n",
       "      <td>N</td>\n",
       "      <td>1.0</td>\n",
       "      <td>41</td>\n",
       "      <td>140</td>\n",
       "      <td>1.0</td>\n",
       "      <td>3.70</td>\n",
       "      <td>14.5</td>\n",
       "      <td>3.25</td>\n",
       "      <td>0.5</td>\n",
       "      <td>4.60</td>\n",
       "      <td>0.0</td>\n",
       "      <td>None</td>\n",
       "      <td>0.3</td>\n",
       "      <td>23.15</td>\n",
       "      <td>1.0</td>\n",
       "      <td>1.0</td>\n",
       "      <td>2.75</td>\n",
       "    </tr>\n",
       "    <tr>\n",
       "      <th>3</th>\n",
       "      <td>2</td>\n",
       "      <td>2022-01-01 00:07:42</td>\n",
       "      <td>2022-01-01 00:15:57</td>\n",
       "      <td>N</td>\n",
       "      <td>1.0</td>\n",
       "      <td>181</td>\n",
       "      <td>181</td>\n",
       "      <td>1.0</td>\n",
       "      <td>1.69</td>\n",
       "      <td>8.0</td>\n",
       "      <td>0.50</td>\n",
       "      <td>0.5</td>\n",
       "      <td>0.00</td>\n",
       "      <td>0.0</td>\n",
       "      <td>None</td>\n",
       "      <td>0.3</td>\n",
       "      <td>9.30</td>\n",
       "      <td>2.0</td>\n",
       "      <td>1.0</td>\n",
       "      <td>0.00</td>\n",
       "    </tr>\n",
       "    <tr>\n",
       "      <th>4</th>\n",
       "      <td>2</td>\n",
       "      <td>2022-01-01 00:07:50</td>\n",
       "      <td>2022-01-01 00:28:52</td>\n",
       "      <td>N</td>\n",
       "      <td>1.0</td>\n",
       "      <td>33</td>\n",
       "      <td>170</td>\n",
       "      <td>1.0</td>\n",
       "      <td>6.26</td>\n",
       "      <td>22.0</td>\n",
       "      <td>0.50</td>\n",
       "      <td>0.5</td>\n",
       "      <td>5.21</td>\n",
       "      <td>0.0</td>\n",
       "      <td>None</td>\n",
       "      <td>0.3</td>\n",
       "      <td>31.26</td>\n",
       "      <td>1.0</td>\n",
       "      <td>1.0</td>\n",
       "      <td>2.75</td>\n",
       "    </tr>\n",
       "  </tbody>\n",
       "</table>\n",
       "</div>"
      ],
      "text/plain": [
       "   VendorID lpep_pickup_datetime lpep_dropoff_datetime store_and_fwd_flag  \\\n",
       "0         2  2022-01-01 00:14:21   2022-01-01 00:15:33                  N   \n",
       "1         1  2022-01-01 00:20:55   2022-01-01 00:29:38                  N   \n",
       "2         1  2022-01-01 00:57:02   2022-01-01 01:13:14                  N   \n",
       "3         2  2022-01-01 00:07:42   2022-01-01 00:15:57                  N   \n",
       "4         2  2022-01-01 00:07:50   2022-01-01 00:28:52                  N   \n",
       "\n",
       "   RatecodeID  PULocationID  DOLocationID  passenger_count  trip_distance  \\\n",
       "0         1.0            42            42              1.0           0.44   \n",
       "1         1.0           116            41              1.0           2.10   \n",
       "2         1.0            41           140              1.0           3.70   \n",
       "3         1.0           181           181              1.0           1.69   \n",
       "4         1.0            33           170              1.0           6.26   \n",
       "\n",
       "   fare_amount  extra  mta_tax  tip_amount  tolls_amount ehail_fee  \\\n",
       "0          3.5   0.50      0.5        0.00           0.0      None   \n",
       "1          9.5   0.50      0.5        0.00           0.0      None   \n",
       "2         14.5   3.25      0.5        4.60           0.0      None   \n",
       "3          8.0   0.50      0.5        0.00           0.0      None   \n",
       "4         22.0   0.50      0.5        5.21           0.0      None   \n",
       "\n",
       "   improvement_surcharge  total_amount  payment_type  trip_type  \\\n",
       "0                    0.3          4.80           2.0        1.0   \n",
       "1                    0.3         10.80           2.0        1.0   \n",
       "2                    0.3         23.15           1.0        1.0   \n",
       "3                    0.3          9.30           2.0        1.0   \n",
       "4                    0.3         31.26           1.0        1.0   \n",
       "\n",
       "   congestion_surcharge  \n",
       "0                  0.00  \n",
       "1                  0.00  \n",
       "2                  2.75  \n",
       "3                  0.00  \n",
       "4                  2.75  "
      ]
     },
     "execution_count": 3,
     "metadata": {},
     "output_type": "execute_result"
    }
   ],
   "source": [
    "train.head()"
   ]
  },
  {
   "cell_type": "code",
   "execution_count": null,
   "metadata": {},
   "outputs": [],
   "source": []
  },
  {
   "cell_type": "code",
   "execution_count": 4,
   "metadata": {},
   "outputs": [],
   "source": [
    "dv = DictVectorizer()"
   ]
  },
  {
   "cell_type": "code",
   "execution_count": 5,
   "metadata": {},
   "outputs": [],
   "source": [
    "def read_dataframe(df: pd.DataFrame):\n",
    "    #df = pd.read_parquet(filename)\n",
    "\n",
    "    df['duration'] = df['lpep_dropoff_datetime'] - df['lpep_pickup_datetime']\n",
    "    df.duration = df.duration.apply(lambda td: td.total_seconds() / 60)\n",
    "    df = df[(df.duration >= 1) & (df.duration <= 60)]\n",
    "\n",
    "    categorical = ['PULocationID', 'DOLocationID']\n",
    "    df[categorical] = df[categorical].astype(str)\n",
    "\n",
    "    return df\n",
    "\n",
    "\n",
    "def preprocess(df: pd.DataFrame, dv: DictVectorizer, fit_dv: bool = False):\n",
    "    df['PU_DO'] = df['PULocationID'] + '_' + df['DOLocationID']\n",
    "    categorical = ['PU_DO']\n",
    "    numerical = ['trip_distance']\n",
    "    dicts = df[categorical + numerical].to_dict(orient='records')\n",
    "    if fit_dv:\n",
    "        X = dv.fit_transform(dicts)\n",
    "    else:\n",
    "        X = dv.transform(dicts)\n",
    "    return X, dv"
   ]
  },
  {
   "cell_type": "code",
   "execution_count": 6,
   "metadata": {},
   "outputs": [],
   "source": [
    "def data_processing(train_df, val_df, test_df):\n",
    "    df_train = read_dataframe(train_df)\n",
    "    df_val = read_dataframe(val_df)\n",
    "    df_test = read_dataframe(test_df)\n",
    "\n",
    "    target = 'tip_amount'\n",
    "\n",
    "    y_train = df_train[target].values\n",
    "    y_val= df_val[target].values\n",
    "    y_test = df_test[target].values\n",
    "\n",
    "    \"\"\"Init the dictvectorizer\"\"\" \n",
    "    dv = DictVectorizer()\n",
    "    X_train, dv = preprocess(df_train, dv, fit_dv=True)\n",
    "    X_val, _ = preprocess(df_val, dv, fit_dv=False)\n",
    "    X_test, _ = preprocess(df_test, dv, fit_dv=False)\n",
    "\n",
    "    return X_train,y_train,X_val,y_val,X_test,y_test,dv\n",
    "\n",
    "    "
   ]
  },
  {
   "cell_type": "code",
   "execution_count": 8,
   "metadata": {},
   "outputs": [
    {
     "name": "stderr",
     "output_type": "stream",
     "text": [
      "/tmp/ipykernel_2377/1979658928.py:9: SettingWithCopyWarning: \n",
      "A value is trying to be set on a copy of a slice from a DataFrame.\n",
      "Try using .loc[row_indexer,col_indexer] = value instead\n",
      "\n",
      "See the caveats in the documentation: https://pandas.pydata.org/pandas-docs/stable/user_guide/indexing.html#returning-a-view-versus-a-copy\n",
      "  df[categorical] = df[categorical].astype(str)\n",
      "/tmp/ipykernel_2377/1979658928.py:9: SettingWithCopyWarning: \n",
      "A value is trying to be set on a copy of a slice from a DataFrame.\n",
      "Try using .loc[row_indexer,col_indexer] = value instead\n",
      "\n",
      "See the caveats in the documentation: https://pandas.pydata.org/pandas-docs/stable/user_guide/indexing.html#returning-a-view-versus-a-copy\n",
      "  df[categorical] = df[categorical].astype(str)\n",
      "/tmp/ipykernel_2377/1979658928.py:9: SettingWithCopyWarning: \n",
      "A value is trying to be set on a copy of a slice from a DataFrame.\n",
      "Try using .loc[row_indexer,col_indexer] = value instead\n",
      "\n",
      "See the caveats in the documentation: https://pandas.pydata.org/pandas-docs/stable/user_guide/indexing.html#returning-a-view-versus-a-copy\n",
      "  df[categorical] = df[categorical].astype(str)\n",
      "/tmp/ipykernel_2377/1979658928.py:15: SettingWithCopyWarning: \n",
      "A value is trying to be set on a copy of a slice from a DataFrame.\n",
      "Try using .loc[row_indexer,col_indexer] = value instead\n",
      "\n",
      "See the caveats in the documentation: https://pandas.pydata.org/pandas-docs/stable/user_guide/indexing.html#returning-a-view-versus-a-copy\n",
      "  df['PU_DO'] = df['PULocationID'] + '_' + df['DOLocationID']\n",
      "/tmp/ipykernel_2377/1979658928.py:15: SettingWithCopyWarning: \n",
      "A value is trying to be set on a copy of a slice from a DataFrame.\n",
      "Try using .loc[row_indexer,col_indexer] = value instead\n",
      "\n",
      "See the caveats in the documentation: https://pandas.pydata.org/pandas-docs/stable/user_guide/indexing.html#returning-a-view-versus-a-copy\n",
      "  df['PU_DO'] = df['PULocationID'] + '_' + df['DOLocationID']\n",
      "/tmp/ipykernel_2377/1979658928.py:15: SettingWithCopyWarning: \n",
      "A value is trying to be set on a copy of a slice from a DataFrame.\n",
      "Try using .loc[row_indexer,col_indexer] = value instead\n",
      "\n",
      "See the caveats in the documentation: https://pandas.pydata.org/pandas-docs/stable/user_guide/indexing.html#returning-a-view-versus-a-copy\n",
      "  df['PU_DO'] = df['PULocationID'] + '_' + df['DOLocationID']\n"
     ]
    }
   ],
   "source": [
    "X_train,y_train,X_val,y_val,X_test,y_test,dv = data_processing(train, val, test)"
   ]
  },
  {
   "cell_type": "code",
   "execution_count": 9,
   "metadata": {},
   "outputs": [],
   "source": [
    "#save the dictvectorizer\n",
    "import pickle\n",
    "with open('2_homework/dv.pkl', 'wb') as file:\n",
    "    pickle.dump(dv, file)"
   ]
  },
  {
   "cell_type": "markdown",
   "metadata": {},
   "source": [
    "answer to the Q2"
   ]
  },
  {
   "cell_type": "code",
   "execution_count": 10,
   "metadata": {},
   "outputs": [
    {
     "name": "stdout",
     "output_type": "stream",
     "text": [
      "152K\t/home/ubuntu/notebooks/2_homework/dv.pkl\n"
     ]
    }
   ],
   "source": [
    "#To check the size of the file\n",
    "!du -h \"/home/ubuntu/notebooks/2_homework/dv.pkl\"\n",
    "\n",
    "#the answer is b-154kb"
   ]
  },
  {
   "cell_type": "markdown",
   "metadata": {},
   "source": [
    "------------------------------------------------"
   ]
  },
  {
   "cell_type": "markdown",
   "metadata": {},
   "source": [
    "Q3 Train a model with autolog"
   ]
  },
  {
   "cell_type": "code",
   "execution_count": null,
   "metadata": {},
   "outputs": [],
   "source": []
  },
  {
   "cell_type": "code",
   "execution_count": 10,
   "metadata": {},
   "outputs": [],
   "source": [
    "def train_func(X_train,y_train,X_val,y_val,model):\n",
    "\n",
    "    model.fit(X_train, y_train)\n",
    "    y_pred = model.predict(X_val)\n",
    "    rmse = mean_squared_error(y_pred,y_val)\n",
    "    return rmse\n"
   ]
  },
  {
   "cell_type": "code",
   "execution_count": 13,
   "metadata": {},
   "outputs": [],
   "source": [
    "model  = RandomForestRegressor(max_depth=10, random_state=0)"
   ]
  },
  {
   "cell_type": "code",
   "execution_count": 15,
   "metadata": {},
   "outputs": [
    {
     "data": {
      "text/plain": [
       "<Experiment: artifact_location='mlflow-artifacts:/5', creation_time=1706856376705, experiment_id='5', last_update_time=1706856376705, lifecycle_stage='active', name='2_homework', tags={}>"
      ]
     },
     "execution_count": 15,
     "metadata": {},
     "output_type": "execute_result"
    }
   ],
   "source": [
    "mlflow.set_tracking_uri(uri=\"http://localhost:5000\")\n",
    "mlflow.set_experiment(\"2_homework\")\n",
    "\n"
   ]
  },
  {
   "cell_type": "code",
   "execution_count": 36,
   "metadata": {},
   "outputs": [
    {
     "name": "stderr",
     "output_type": "stream",
     "text": [
      "2024/02/02 06:46:20 WARNING mlflow.sklearn: Failed to log training dataset information to MLflow Tracking. Reason: 'numpy.ndarray' object has no attribute 'toarray'\n"
     ]
    }
   ],
   "source": [
    "with mlflow.start_run():\n",
    "    mlflow.set_tag('Model','RandomForestRegressor')\n",
    "    mlflow.sklearn.autolog()\n",
    "\n",
    "    #run the model\n",
    "    rmse = train_func(X_train,y_train,X_val,y_val,model)\n",
    "\n",
    "    #run the metric logging\n",
    "    mlflow.log_metric('RMSE',rmse)\n",
    "\n",
    "    #log the model artifact\n",
    "    mlflow.sklearn.log_model(model, artifact_path='models')"
   ]
  },
  {
   "cell_type": "code",
   "execution_count": 16,
   "metadata": {},
   "outputs": [],
   "source": [
    "# now we have been tasked to check the max_depth of the model\n",
    "# we will try it using mlflow client\n",
    "\n",
    "from mlflow.client import MlflowClient\n",
    "\n",
    "client = MlflowClient(tracking_uri=mlflow.get_tracking_uri())"
   ]
  },
  {
   "cell_type": "code",
   "execution_count": 17,
   "metadata": {},
   "outputs": [
    {
     "data": {
      "text/plain": [
       "[<Experiment: artifact_location='mlflow-artifacts:/5', creation_time=1706856376705, experiment_id='5', last_update_time=1706856376705, lifecycle_stage='active', name='2_homework', tags={}>,\n",
       " <Experiment: artifact_location='mlflow-artifacts:/4', creation_time=1706710158792, experiment_id='4', last_update_time=1706710158792, lifecycle_stage='active', name='lightgbm prediction experiment', tags={}>,\n",
       " <Experiment: artifact_location='mlflow-artifacts:/3', creation_time=1706708938289, experiment_id='3', last_update_time=1706708938289, lifecycle_stage='active', name='2_model_registry', tags={}>,\n",
       " <Experiment: artifact_location='/home/ubuntu/notebooks/mlruns/2', creation_time=1705592485729, experiment_id='2', last_update_time=1705592485729, lifecycle_stage='active', name='nyc_taxi_experiment', tags={}>,\n",
       " <Experiment: artifact_location='/home/ubuntu/notebooks/mlruns/1', creation_time=1705591891060, experiment_id='1', last_update_time=1705591891060, lifecycle_stage='active', name='nyc-taxi-experiment', tags={}>,\n",
       " <Experiment: artifact_location='mlflow-artifacts:/0', creation_time=1705588661834, experiment_id='0', last_update_time=1705588661834, lifecycle_stage='active', name='Default', tags={}>]"
      ]
     },
     "execution_count": 17,
     "metadata": {},
     "output_type": "execute_result"
    }
   ],
   "source": [
    "client.search_experiments()\n",
    "#This lists all the experiments"
   ]
  },
  {
   "cell_type": "markdown",
   "metadata": {},
   "source": [
    "This answers the 3rd question"
   ]
  },
  {
   "cell_type": "code",
   "execution_count": 18,
   "metadata": {},
   "outputs": [
    {
     "name": "stdout",
     "output_type": "stream",
     "text": [
      "the max_depth is 10\n"
     ]
    }
   ],
   "source": [
    "runs = client.search_runs(\n",
    "    experiment_ids=5\n",
    ")\n",
    "\n",
    "\n",
    "#since we know our experiment id is 5\n",
    "\n",
    "for run in runs:\n",
    "    print(f\"the max_depth is {run.data.params['max_depth']}\")\n",
    "\n",
    "\n",
    "\n"
   ]
  },
  {
   "cell_type": "markdown",
   "metadata": {},
   "source": [
    "==================================================================="
   ]
  },
  {
   "cell_type": "markdown",
   "metadata": {},
   "source": [
    "# Q4"
   ]
  },
  {
   "cell_type": "code",
   "execution_count": null,
   "metadata": {},
   "outputs": [],
   "source": [
    "#%pip install optuna\n",
    "#first  lets define the objective function to try different values to tune using optuna \n",
    "# then define the objective function\n",
    "\n",
    "\n",
    "#import the necessary libs\n",
    "\n"
   ]
  },
  {
   "cell_type": "code",
   "execution_count": 9,
   "metadata": {},
   "outputs": [],
   "source": [
    "import optuna\n",
    "from sklearn.model_selection import cross_val_score\n",
    "from sklearn.ensemble import RandomForestRegressor\n",
    "\n",
    "  #init the mode"
   ]
  },
  {
   "cell_type": "code",
   "execution_count": 10,
   "metadata": {},
   "outputs": [],
   "source": [
    "\n",
    "\n",
    "\n",
    "def objective(trial):\n",
    "    #define the hyperparams\n",
    "    params = {\n",
    "        'n_estimators': trial.suggest_int('n_estimators', 10, 50, 1),\n",
    "        'max_depth': trial.suggest_int('max_depth', 1, 20, 1),\n",
    "        'min_samples_split': trial.suggest_int('min_samples_split', 2, 10, 1),\n",
    "        'min_samples_leaf': trial.suggest_int('min_samples_leaf', 1, 4, 1),\n",
    "        'random_state': 42,\n",
    "        'n_jobs': -1\n",
    "    }\n",
    "    #model and features and targets have been initialized following previous experiments\n",
    "    model = RandomForestRegressor(**params)\n",
    "    model.fit(X_train,y_train)\n",
    "    y_pred = model.predict(X_val)\n",
    "    rmse = mean_squared_error(y_val, y_pred, squared=False)\n",
    "    return rmse\n",
    "\n"
   ]
  },
  {
   "cell_type": "code",
   "execution_count": 11,
   "metadata": {},
   "outputs": [
    {
     "name": "stderr",
     "output_type": "stream",
     "text": [
      "[I 2024-02-02 15:26:32,425] A new study created in memory with name: no-name-06895668-16ef-46d5-9418-cc949edca53f\n",
      "/tmp/ipykernel_2377/4193407549.py:4: FutureWarning: suggest_int() got {'step'} as positional arguments but they were expected to be given as keyword arguments.\n",
      "  'n_estimators': trial.suggest_int('n_estimators', 10, 50, 1),\n",
      "/tmp/ipykernel_2377/4193407549.py:5: FutureWarning: suggest_int() got {'step'} as positional arguments but they were expected to be given as keyword arguments.\n",
      "  'max_depth': trial.suggest_int('max_depth', 1, 20, 1),\n",
      "/tmp/ipykernel_2377/4193407549.py:6: FutureWarning: suggest_int() got {'step'} as positional arguments but they were expected to be given as keyword arguments.\n",
      "  'min_samples_split': trial.suggest_int('min_samples_split', 2, 10, 1),\n",
      "/tmp/ipykernel_2377/4193407549.py:7: FutureWarning: suggest_int() got {'step'} as positional arguments but they were expected to be given as keyword arguments.\n",
      "  'min_samples_leaf': trial.suggest_int('min_samples_leaf', 1, 4, 1),\n",
      "[I 2024-02-02 15:26:35,196] Trial 0 finished with value: 2.4500218239093114 and parameters: {'n_estimators': 28, 'max_depth': 19, 'min_samples_split': 10, 'min_samples_leaf': 4}. Best is trial 0 with value: 2.4500218239093114.\n",
      "/tmp/ipykernel_2377/4193407549.py:4: FutureWarning: suggest_int() got {'step'} as positional arguments but they were expected to be given as keyword arguments.\n",
      "  'n_estimators': trial.suggest_int('n_estimators', 10, 50, 1),\n",
      "/tmp/ipykernel_2377/4193407549.py:5: FutureWarning: suggest_int() got {'step'} as positional arguments but they were expected to be given as keyword arguments.\n",
      "  'max_depth': trial.suggest_int('max_depth', 1, 20, 1),\n",
      "/tmp/ipykernel_2377/4193407549.py:6: FutureWarning: suggest_int() got {'step'} as positional arguments but they were expected to be given as keyword arguments.\n",
      "  'min_samples_split': trial.suggest_int('min_samples_split', 2, 10, 1),\n",
      "/tmp/ipykernel_2377/4193407549.py:7: FutureWarning: suggest_int() got {'step'} as positional arguments but they were expected to be given as keyword arguments.\n",
      "  'min_samples_leaf': trial.suggest_int('min_samples_leaf', 1, 4, 1),\n",
      "[I 2024-02-02 15:26:40,023] Trial 1 finished with value: 2.4518259439973322 and parameters: {'n_estimators': 49, 'max_depth': 20, 'min_samples_split': 2, 'min_samples_leaf': 1}. Best is trial 0 with value: 2.4500218239093114.\n",
      "/tmp/ipykernel_2377/4193407549.py:4: FutureWarning: suggest_int() got {'step'} as positional arguments but they were expected to be given as keyword arguments.\n",
      "  'n_estimators': trial.suggest_int('n_estimators', 10, 50, 1),\n",
      "/tmp/ipykernel_2377/4193407549.py:5: FutureWarning: suggest_int() got {'step'} as positional arguments but they were expected to be given as keyword arguments.\n",
      "  'max_depth': trial.suggest_int('max_depth', 1, 20, 1),\n",
      "/tmp/ipykernel_2377/4193407549.py:6: FutureWarning: suggest_int() got {'step'} as positional arguments but they were expected to be given as keyword arguments.\n",
      "  'min_samples_split': trial.suggest_int('min_samples_split', 2, 10, 1),\n",
      "/tmp/ipykernel_2377/4193407549.py:7: FutureWarning: suggest_int() got {'step'} as positional arguments but they were expected to be given as keyword arguments.\n",
      "  'min_samples_leaf': trial.suggest_int('min_samples_leaf', 1, 4, 1),\n",
      "[I 2024-02-02 15:26:42,568] Trial 2 finished with value: 2.456796632971178 and parameters: {'n_estimators': 31, 'max_depth': 18, 'min_samples_split': 2, 'min_samples_leaf': 1}. Best is trial 0 with value: 2.4500218239093114.\n",
      "/tmp/ipykernel_2377/4193407549.py:4: FutureWarning: suggest_int() got {'step'} as positional arguments but they were expected to be given as keyword arguments.\n",
      "  'n_estimators': trial.suggest_int('n_estimators', 10, 50, 1),\n",
      "/tmp/ipykernel_2377/4193407549.py:5: FutureWarning: suggest_int() got {'step'} as positional arguments but they were expected to be given as keyword arguments.\n",
      "  'max_depth': trial.suggest_int('max_depth', 1, 20, 1),\n",
      "/tmp/ipykernel_2377/4193407549.py:6: FutureWarning: suggest_int() got {'step'} as positional arguments but they were expected to be given as keyword arguments.\n",
      "  'min_samples_split': trial.suggest_int('min_samples_split', 2, 10, 1),\n",
      "/tmp/ipykernel_2377/4193407549.py:7: FutureWarning: suggest_int() got {'step'} as positional arguments but they were expected to be given as keyword arguments.\n",
      "  'min_samples_leaf': trial.suggest_int('min_samples_leaf', 1, 4, 1),\n",
      "[I 2024-02-02 15:26:42,854] Trial 3 finished with value: 2.462502766036349 and parameters: {'n_estimators': 10, 'max_depth': 7, 'min_samples_split': 6, 'min_samples_leaf': 2}. Best is trial 0 with value: 2.4500218239093114.\n",
      "/tmp/ipykernel_2377/4193407549.py:4: FutureWarning: suggest_int() got {'step'} as positional arguments but they were expected to be given as keyword arguments.\n",
      "  'n_estimators': trial.suggest_int('n_estimators', 10, 50, 1),\n",
      "/tmp/ipykernel_2377/4193407549.py:5: FutureWarning: suggest_int() got {'step'} as positional arguments but they were expected to be given as keyword arguments.\n",
      "  'max_depth': trial.suggest_int('max_depth', 1, 20, 1),\n",
      "/tmp/ipykernel_2377/4193407549.py:6: FutureWarning: suggest_int() got {'step'} as positional arguments but they were expected to be given as keyword arguments.\n",
      "  'min_samples_split': trial.suggest_int('min_samples_split', 2, 10, 1),\n",
      "/tmp/ipykernel_2377/4193407549.py:7: FutureWarning: suggest_int() got {'step'} as positional arguments but they were expected to be given as keyword arguments.\n",
      "  'min_samples_leaf': trial.suggest_int('min_samples_leaf', 1, 4, 1),\n",
      "[I 2024-02-02 15:26:44,656] Trial 4 finished with value: 2.4576487596967747 and parameters: {'n_estimators': 27, 'max_depth': 16, 'min_samples_split': 4, 'min_samples_leaf': 1}. Best is trial 0 with value: 2.4500218239093114.\n",
      "/tmp/ipykernel_2377/4193407549.py:4: FutureWarning: suggest_int() got {'step'} as positional arguments but they were expected to be given as keyword arguments.\n",
      "  'n_estimators': trial.suggest_int('n_estimators', 10, 50, 1),\n",
      "/tmp/ipykernel_2377/4193407549.py:5: FutureWarning: suggest_int() got {'step'} as positional arguments but they were expected to be given as keyword arguments.\n",
      "  'max_depth': trial.suggest_int('max_depth', 1, 20, 1),\n",
      "/tmp/ipykernel_2377/4193407549.py:6: FutureWarning: suggest_int() got {'step'} as positional arguments but they were expected to be given as keyword arguments.\n",
      "  'min_samples_split': trial.suggest_int('min_samples_split', 2, 10, 1),\n",
      "/tmp/ipykernel_2377/4193407549.py:7: FutureWarning: suggest_int() got {'step'} as positional arguments but they were expected to be given as keyword arguments.\n",
      "  'min_samples_leaf': trial.suggest_int('min_samples_leaf', 1, 4, 1),\n",
      "[I 2024-02-02 15:26:45,313] Trial 5 finished with value: 2.4554626789226206 and parameters: {'n_estimators': 21, 'max_depth': 8, 'min_samples_split': 9, 'min_samples_leaf': 3}. Best is trial 0 with value: 2.4500218239093114.\n",
      "/tmp/ipykernel_2377/4193407549.py:4: FutureWarning: suggest_int() got {'step'} as positional arguments but they were expected to be given as keyword arguments.\n",
      "  'n_estimators': trial.suggest_int('n_estimators', 10, 50, 1),\n",
      "/tmp/ipykernel_2377/4193407549.py:5: FutureWarning: suggest_int() got {'step'} as positional arguments but they were expected to be given as keyword arguments.\n",
      "  'max_depth': trial.suggest_int('max_depth', 1, 20, 1),\n",
      "/tmp/ipykernel_2377/4193407549.py:6: FutureWarning: suggest_int() got {'step'} as positional arguments but they were expected to be given as keyword arguments.\n",
      "  'min_samples_split': trial.suggest_int('min_samples_split', 2, 10, 1),\n",
      "/tmp/ipykernel_2377/4193407549.py:7: FutureWarning: suggest_int() got {'step'} as positional arguments but they were expected to be given as keyword arguments.\n",
      "  'min_samples_leaf': trial.suggest_int('min_samples_leaf', 1, 4, 1),\n",
      "[I 2024-02-02 15:26:46,691] Trial 6 finished with value: 2.45416396515586 and parameters: {'n_estimators': 47, 'max_depth': 8, 'min_samples_split': 8, 'min_samples_leaf': 3}. Best is trial 0 with value: 2.4500218239093114.\n",
      "/tmp/ipykernel_2377/4193407549.py:4: FutureWarning: suggest_int() got {'step'} as positional arguments but they were expected to be given as keyword arguments.\n",
      "  'n_estimators': trial.suggest_int('n_estimators', 10, 50, 1),\n",
      "/tmp/ipykernel_2377/4193407549.py:5: FutureWarning: suggest_int() got {'step'} as positional arguments but they were expected to be given as keyword arguments.\n",
      "  'max_depth': trial.suggest_int('max_depth', 1, 20, 1),\n",
      "/tmp/ipykernel_2377/4193407549.py:6: FutureWarning: suggest_int() got {'step'} as positional arguments but they were expected to be given as keyword arguments.\n",
      "  'min_samples_split': trial.suggest_int('min_samples_split', 2, 10, 1),\n",
      "/tmp/ipykernel_2377/4193407549.py:7: FutureWarning: suggest_int() got {'step'} as positional arguments but they were expected to be given as keyword arguments.\n",
      "  'min_samples_leaf': trial.suggest_int('min_samples_leaf', 1, 4, 1),\n",
      "[I 2024-02-02 15:26:47,939] Trial 7 finished with value: 2.455160558921635 and parameters: {'n_estimators': 39, 'max_depth': 9, 'min_samples_split': 9, 'min_samples_leaf': 2}. Best is trial 0 with value: 2.4500218239093114.\n",
      "/tmp/ipykernel_2377/4193407549.py:4: FutureWarning: suggest_int() got {'step'} as positional arguments but they were expected to be given as keyword arguments.\n",
      "  'n_estimators': trial.suggest_int('n_estimators', 10, 50, 1),\n",
      "/tmp/ipykernel_2377/4193407549.py:5: FutureWarning: suggest_int() got {'step'} as positional arguments but they were expected to be given as keyword arguments.\n",
      "  'max_depth': trial.suggest_int('max_depth', 1, 20, 1),\n",
      "/tmp/ipykernel_2377/4193407549.py:6: FutureWarning: suggest_int() got {'step'} as positional arguments but they were expected to be given as keyword arguments.\n",
      "  'min_samples_split': trial.suggest_int('min_samples_split', 2, 10, 1),\n",
      "/tmp/ipykernel_2377/4193407549.py:7: FutureWarning: suggest_int() got {'step'} as positional arguments but they were expected to be given as keyword arguments.\n",
      "  'min_samples_leaf': trial.suggest_int('min_samples_leaf', 1, 4, 1),\n",
      "[I 2024-02-02 15:26:48,178] Trial 8 finished with value: 2.484177519611123 and parameters: {'n_estimators': 32, 'max_depth': 2, 'min_samples_split': 4, 'min_samples_leaf': 4}. Best is trial 0 with value: 2.4500218239093114.\n",
      "/tmp/ipykernel_2377/4193407549.py:4: FutureWarning: suggest_int() got {'step'} as positional arguments but they were expected to be given as keyword arguments.\n",
      "  'n_estimators': trial.suggest_int('n_estimators', 10, 50, 1),\n",
      "/tmp/ipykernel_2377/4193407549.py:5: FutureWarning: suggest_int() got {'step'} as positional arguments but they were expected to be given as keyword arguments.\n",
      "  'max_depth': trial.suggest_int('max_depth', 1, 20, 1),\n",
      "/tmp/ipykernel_2377/4193407549.py:6: FutureWarning: suggest_int() got {'step'} as positional arguments but they were expected to be given as keyword arguments.\n",
      "  'min_samples_split': trial.suggest_int('min_samples_split', 2, 10, 1),\n",
      "/tmp/ipykernel_2377/4193407549.py:7: FutureWarning: suggest_int() got {'step'} as positional arguments but they were expected to be given as keyword arguments.\n",
      "  'min_samples_leaf': trial.suggest_int('min_samples_leaf', 1, 4, 1),\n",
      "[I 2024-02-02 15:26:49,710] Trial 9 finished with value: 2.4535439134786565 and parameters: {'n_estimators': 43, 'max_depth': 10, 'min_samples_split': 8, 'min_samples_leaf': 2}. Best is trial 0 with value: 2.4500218239093114.\n"
     ]
    }
   ],
   "source": [
    "#Conduct the study and store the params in the study object\n",
    "sampler = optuna.samplers.TPESampler()\n",
    "study = optuna.create_study(direction='minimize', sampler=sampler)\n",
    "study.optimize(objective,n_trials=10)"
   ]
  },
  {
   "cell_type": "code",
   "execution_count": 12,
   "metadata": {},
   "outputs": [],
   "source": [
    "trials=study.get_trials() #get all the trials conducted\n"
   ]
  },
  {
   "cell_type": "code",
   "execution_count": 45,
   "metadata": {},
   "outputs": [
    {
     "data": {
      "text/plain": [
       "[2.4500218239093114]"
      ]
     },
     "execution_count": 45,
     "metadata": {},
     "output_type": "execute_result"
    }
   ],
   "source": [
    "trials[0].values"
   ]
  },
  {
   "cell_type": "markdown",
   "metadata": {},
   "source": [
    " Now for each trial conduct an exp\n"
   ]
  },
  {
   "cell_type": "code",
   "execution_count": 14,
   "metadata": {},
   "outputs": [],
   "source": [
    "#before that we will need to delete the existing deleted experiment permanently\n",
    "\n",
    "\n",
    "#import sqlite and then connect to the database\n",
    "import sqlite3\n",
    "\n",
    "db = sqlite3.connect('mlflow.db')"
   ]
  },
  {
   "cell_type": "code",
   "execution_count": 15,
   "metadata": {},
   "outputs": [
    {
     "name": "stdout",
     "output_type": "stream",
     "text": [
      "[('table', 'experiments', 'experiments', 2, \"CREATE TABLE experiments (\\n\\texperiment_id INTEGER NOT NULL, \\n\\tname VARCHAR(256) NOT NULL, \\n\\tartifact_location VARCHAR(256), \\n\\tlifecycle_stage VARCHAR(32), creation_time BIGINT, last_update_time BIGINT, \\n\\tCONSTRAINT experiment_pk PRIMARY KEY (experiment_id), \\n\\tCONSTRAINT experiments_lifecycle_stage CHECK (lifecycle_stage IN ('active', 'deleted')), \\n\\tUNIQUE (name)\\n)\"), ('table', 'alembic_version', 'alembic_version', 12, 'CREATE TABLE alembic_version (\\n\\tversion_num VARCHAR(32) NOT NULL, \\n\\tCONSTRAINT alembic_version_pkc PRIMARY KEY (version_num)\\n)'), ('table', 'experiment_tags', 'experiment_tags', 14, 'CREATE TABLE experiment_tags (\\n\\t\"key\" VARCHAR(250) NOT NULL, \\n\\tvalue VARCHAR(5000), \\n\\texperiment_id INTEGER NOT NULL, \\n\\tCONSTRAINT experiment_tag_pk PRIMARY KEY (\"key\", experiment_id), \\n\\tFOREIGN KEY(experiment_id) REFERENCES experiments (experiment_id)\\n)'), ('table', 'tags', 'tags', 16, 'CREATE TABLE \"tags\" (\\n\\t\"key\" VARCHAR(250) NOT NULL, \\n\\tvalue VARCHAR(5000), \\n\\trun_uuid VARCHAR(32) NOT NULL, \\n\\tCONSTRAINT tag_pk PRIMARY KEY (\"key\", run_uuid), \\n\\tFOREIGN KEY(run_uuid) REFERENCES runs (run_uuid)\\n)'), ('table', 'registered_models', 'registered_models', 18, 'CREATE TABLE registered_models (\\n\\tname VARCHAR(256) NOT NULL, \\n\\tcreation_time BIGINT, \\n\\tlast_updated_time BIGINT, \\n\\tdescription VARCHAR(5000), \\n\\tCONSTRAINT registered_model_pk PRIMARY KEY (name), \\n\\tUNIQUE (name)\\n)'), ('table', 'runs', 'runs', 24, 'CREATE TABLE \"runs\" (\\n\\trun_uuid VARCHAR(32) NOT NULL, \\n\\tname VARCHAR(250), \\n\\tsource_type VARCHAR(20), \\n\\tsource_name VARCHAR(500), \\n\\tentry_point_name VARCHAR(50), \\n\\tuser_id VARCHAR(256), \\n\\tstatus VARCHAR(9), \\n\\tstart_time BIGINT, \\n\\tend_time BIGINT, \\n\\tsource_version VARCHAR(50), \\n\\tlifecycle_stage VARCHAR(20), \\n\\tartifact_uri VARCHAR(200), \\n\\texperiment_id INTEGER, deleted_time BIGINT, \\n\\tCONSTRAINT run_pk PRIMARY KEY (run_uuid), \\n\\tCONSTRAINT runs_lifecycle_stage CHECK (lifecycle_stage IN (\\'active\\', \\'deleted\\')), \\n\\tCONSTRAINT source_type CHECK (source_type IN (\\'NOTEBOOK\\', \\'JOB\\', \\'LOCAL\\', \\'UNKNOWN\\', \\'PROJECT\\')), \\n\\tFOREIGN KEY(experiment_id) REFERENCES experiments (experiment_id), \\n\\tCHECK (status IN (\\'SCHEDULED\\', \\'FAILED\\', \\'FINISHED\\', \\'RUNNING\\', \\'KILLED\\'))\\n)'), ('table', 'registered_model_tags', 'registered_model_tags', 4, 'CREATE TABLE registered_model_tags (\\n\\t\"key\" VARCHAR(250) NOT NULL, \\n\\tvalue VARCHAR(5000), \\n\\tname VARCHAR(256) NOT NULL, \\n\\tCONSTRAINT registered_model_tag_pk PRIMARY KEY (\"key\", name), \\n\\tFOREIGN KEY(name) REFERENCES registered_models (name) ON UPDATE cascade\\n)'), ('table', 'model_version_tags', 'model_version_tags', 26, 'CREATE TABLE model_version_tags (\\n\\t\"key\" VARCHAR(250) NOT NULL, \\n\\tvalue VARCHAR(5000), \\n\\tname VARCHAR(256) NOT NULL, \\n\\tversion INTEGER NOT NULL, \\n\\tCONSTRAINT model_version_tag_pk PRIMARY KEY (\"key\", name, version), \\n\\tFOREIGN KEY(name, version) REFERENCES model_versions (name, version) ON UPDATE cascade\\n)'), ('table', 'model_versions', 'model_versions', 28, 'CREATE TABLE \"model_versions\" (\\n\\tname VARCHAR(256) NOT NULL, \\n\\tversion INTEGER NOT NULL, \\n\\tcreation_time BIGINT, \\n\\tlast_updated_time BIGINT, \\n\\tdescription VARCHAR(5000), \\n\\tuser_id VARCHAR(256), \\n\\tcurrent_stage VARCHAR(20), \\n\\tsource VARCHAR(500), \\n\\trun_id VARCHAR(32), \\n\\tstatus VARCHAR(20), \\n\\tstatus_message VARCHAR(500), \\n\\trun_link VARCHAR(500), storage_location VARCHAR(500), \\n\\tCONSTRAINT model_version_pk PRIMARY KEY (name, version), \\n\\tFOREIGN KEY(name) REFERENCES registered_models (name) ON UPDATE CASCADE\\n)'), ('table', 'latest_metrics', 'latest_metrics', 20, 'CREATE TABLE \"latest_metrics\" (\\n\\t\"key\" VARCHAR(250) NOT NULL, \\n\\tvalue FLOAT NOT NULL, \\n\\ttimestamp BIGINT, \\n\\tstep BIGINT NOT NULL, \\n\\tis_nan BOOLEAN NOT NULL, \\n\\trun_uuid VARCHAR(32) NOT NULL, \\n\\tCONSTRAINT latest_metric_pk PRIMARY KEY (\"key\", run_uuid), \\n\\tFOREIGN KEY(run_uuid) REFERENCES runs (run_uuid), \\n\\tCHECK (is_nan IN (0, 1))\\n)'), ('table', 'metrics', 'metrics', 6, 'CREATE TABLE \"metrics\" (\\n\\t\"key\" VARCHAR(250) NOT NULL, \\n\\tvalue FLOAT NOT NULL, \\n\\ttimestamp BIGINT NOT NULL, \\n\\trun_uuid VARCHAR(32) NOT NULL, \\n\\tstep BIGINT DEFAULT \\'0\\' NOT NULL, \\n\\tis_nan BOOLEAN DEFAULT \\'0\\' NOT NULL, \\n\\tCONSTRAINT metric_pk PRIMARY KEY (\"key\", timestamp, step, run_uuid, value, is_nan), \\n\\tFOREIGN KEY(run_uuid) REFERENCES runs (run_uuid), \\n\\tCHECK (is_nan IN (0, 1))\\n)'), ('table', 'registered_model_aliases', 'registered_model_aliases', 10, 'CREATE TABLE registered_model_aliases (\\n\\talias VARCHAR(256) NOT NULL, \\n\\tversion INTEGER NOT NULL, \\n\\tname VARCHAR(256) NOT NULL, \\n\\tCONSTRAINT registered_model_alias_pk PRIMARY KEY (name, alias), \\n\\tCONSTRAINT registered_model_alias_name_fkey FOREIGN KEY(name) REFERENCES registered_models (name) ON DELETE cascade ON UPDATE cascade\\n)'), ('table', 'datasets', 'datasets', 34, 'CREATE TABLE datasets (\\n\\tdataset_uuid VARCHAR(36) NOT NULL, \\n\\texperiment_id INTEGER NOT NULL, \\n\\tname VARCHAR(500) NOT NULL, \\n\\tdigest VARCHAR(36) NOT NULL, \\n\\tdataset_source_type VARCHAR(36) NOT NULL, \\n\\tdataset_source TEXT NOT NULL, \\n\\tdataset_schema TEXT, \\n\\tdataset_profile TEXT, \\n\\tCONSTRAINT dataset_pk PRIMARY KEY (experiment_id, name, digest), \\n\\tFOREIGN KEY(experiment_id) REFERENCES experiments (experiment_id)\\n)'), ('table', 'inputs', 'inputs', 38, 'CREATE TABLE inputs (\\n\\tinput_uuid VARCHAR(36) NOT NULL, \\n\\tsource_type VARCHAR(36) NOT NULL, \\n\\tsource_id VARCHAR(36) NOT NULL, \\n\\tdestination_type VARCHAR(36) NOT NULL, \\n\\tdestination_id VARCHAR(36) NOT NULL, \\n\\tCONSTRAINT inputs_pk PRIMARY KEY (source_type, source_id, destination_type, destination_id)\\n)'), ('table', 'input_tags', 'input_tags', 42, 'CREATE TABLE input_tags (\\n\\tinput_uuid VARCHAR(36) NOT NULL, \\n\\tname VARCHAR(255) NOT NULL, \\n\\tvalue VARCHAR(500) NOT NULL, \\n\\tCONSTRAINT input_tags_pk PRIMARY KEY (input_uuid, name)\\n)'), ('table', 'params', 'params', 44, 'CREATE TABLE \"params\" (\\n\\t\"key\" VARCHAR(250) NOT NULL, \\n\\tvalue VARCHAR(8000) NOT NULL, \\n\\trun_uuid VARCHAR(32) NOT NULL, \\n\\tCONSTRAINT param_pk PRIMARY KEY (\"key\", run_uuid), \\n\\tFOREIGN KEY(run_uuid) REFERENCES runs (run_uuid)\\n)')]\n"
     ]
    }
   ],
   "source": [
    "\n",
    "#execute commands to check what are the tables\n",
    "cur = db.cursor()\n",
    "cur.execute(\"\"\"select * from sqlite_master where type='table'\"\"\")\n",
    "print(cur.fetchall())"
   ]
  },
  {
   "cell_type": "code",
   "execution_count": 16,
   "metadata": {},
   "outputs": [
    {
     "data": {
      "text/plain": [
       "[(0, 'Default', 'mlflow-artifacts:/0', 'active', 1705588661834, 1705588661834),\n",
       " (1,\n",
       "  'nyc-taxi-experiment',\n",
       "  '/home/ubuntu/notebooks/mlruns/1',\n",
       "  'active',\n",
       "  1705591891060,\n",
       "  1705591891060),\n",
       " (2,\n",
       "  'nyc_taxi_experiment',\n",
       "  '/home/ubuntu/notebooks/mlruns/2',\n",
       "  'active',\n",
       "  1705592485729,\n",
       "  1705592485729),\n",
       " (3,\n",
       "  '2_model_registry',\n",
       "  'mlflow-artifacts:/3',\n",
       "  'active',\n",
       "  1706708938289,\n",
       "  1706708938289),\n",
       " (4,\n",
       "  'lightgbm prediction experiment',\n",
       "  'mlflow-artifacts:/4',\n",
       "  'active',\n",
       "  1706710158792,\n",
       "  1706710158792),\n",
       " (5,\n",
       "  '2_homework',\n",
       "  'mlflow-artifacts:/5',\n",
       "  'active',\n",
       "  1706856376705,\n",
       "  1706856376705),\n",
       " (6,\n",
       "  'random-forest-hyperopt',\n",
       "  'mlflow-artifacts:/6',\n",
       "  'deleted',\n",
       "  1706861480031,\n",
       "  1706863721127),\n",
       " (7,\n",
       "  'random_forest_best_model',\n",
       "  'mlflow-artifacts:/7',\n",
       "  'deleted',\n",
       "  1706862585292,\n",
       "  1706862780840)]"
      ]
     },
     "execution_count": 16,
     "metadata": {},
     "output_type": "execute_result"
    }
   ],
   "source": [
    "#Check all the tables\n",
    "cur.execute(\"\"\"SELECT * FROM experiments\"\"\")\n",
    "cur.fetchall()"
   ]
  },
  {
   "cell_type": "code",
   "execution_count": 17,
   "metadata": {},
   "outputs": [
    {
     "data": {
      "text/plain": [
       "[]"
      ]
     },
     "execution_count": 17,
     "metadata": {},
     "output_type": "execute_result"
    }
   ],
   "source": [
    "#Then delete the concerned experiment\n",
    "\n",
    "cur.execute(\"\"\"DELETE FROM experiments WHERE experiment_id=6\"\"\")\n",
    "cur.fetchall()"
   ]
  },
  {
   "cell_type": "code",
   "execution_count": 18,
   "metadata": {},
   "outputs": [
    {
     "data": {
      "text/plain": [
       "[(0, 'Default', 'mlflow-artifacts:/0', 'active', 1705588661834, 1705588661834),\n",
       " (1,\n",
       "  'nyc-taxi-experiment',\n",
       "  '/home/ubuntu/notebooks/mlruns/1',\n",
       "  'active',\n",
       "  1705591891060,\n",
       "  1705591891060),\n",
       " (2,\n",
       "  'nyc_taxi_experiment',\n",
       "  '/home/ubuntu/notebooks/mlruns/2',\n",
       "  'active',\n",
       "  1705592485729,\n",
       "  1705592485729),\n",
       " (3,\n",
       "  '2_model_registry',\n",
       "  'mlflow-artifacts:/3',\n",
       "  'active',\n",
       "  1706708938289,\n",
       "  1706708938289),\n",
       " (4,\n",
       "  'lightgbm prediction experiment',\n",
       "  'mlflow-artifacts:/4',\n",
       "  'active',\n",
       "  1706710158792,\n",
       "  1706710158792),\n",
       " (5,\n",
       "  '2_homework',\n",
       "  'mlflow-artifacts:/5',\n",
       "  'active',\n",
       "  1706856376705,\n",
       "  1706856376705),\n",
       " (7,\n",
       "  'random_forest_best_model',\n",
       "  'mlflow-artifacts:/7',\n",
       "  'deleted',\n",
       "  1706862585292,\n",
       "  1706862780840)]"
      ]
     },
     "execution_count": 18,
     "metadata": {},
     "output_type": "execute_result"
    }
   ],
   "source": [
    "cur.execute(\"\"\"SELECT * FROM experiments\"\"\")\n",
    "cur.fetchall()\n",
    "\n",
    "\n",
    "#Finally check if our job is fulfilled"
   ]
  },
  {
   "cell_type": "markdown",
   "metadata": {},
   "source": [
    "Start of the mlflow workflow to check with the trials"
   ]
  },
  {
   "cell_type": "code",
   "execution_count": null,
   "metadata": {},
   "outputs": [],
   "source": [
    "\n",
    "#create an experiment\n",
    "mlflow.set_experiment(\"random-forest-hyperopt_1\")\n",
    "mlflow.set_tracking_uri(uri=\"http://127.0.0.1:5000\")\n",
    "for trial in trials:\n",
    "    with mlflow.start_run():\n",
    "        mlflow.set_tag(\"Trial No\",trial.number)\n",
    "\n",
    "        #logs\n",
    "        mlflow.log_params(trial.params)\n",
    "\n",
    "        model = RandomForestRegressor(**trial.params)\n",
    "        model.fit(X_train,y_train)\n",
    "        y_pred = model.predict(X_val)\n",
    "        rmse = mean_squared_error(y_val,y_pred, squared=False)\n",
    "        #log the artifact\n",
    "        mlflow.sklearn.log_model(model,artifact_path=\"models\")\n",
    "\n",
    "        #log the metrics\n",
    "        mlflow.log_metric('rmse',rmse)\n"
   ]
  },
  {
   "cell_type": "code",
   "execution_count": null,
   "metadata": {},
   "outputs": [],
   "source": [
    "\n",
    "        #get the best model\n",
    "best_model = RandomForestRegressor(**study.best_params)\n",
    "\n",
    "        #log the best model\n",
    "mlflow.sklearn.log_model(best_model,artifact_path=\"models\")\n",
    "\n",
    "        #eval the model\n",
    "best_model.fit(X_train,y_train)\n",
    "        y_pred = best_model.predict(X_val)\n",
    "        rmse = mean_squared_error(y_val, y_pred, squared=False)\n",
    "        mlflow.log_metric('rmse',rmse)\n",
    "\n",
    "    "
   ]
  },
  {
   "cell_type": "code",
   "execution_count": 25,
   "metadata": {},
   "outputs": [],
   "source": [
    "from mlflow.client import MlflowClient\n",
    "client = MlflowClient(tracking_uri=\"http://localhost:5000\")\n"
   ]
  },
  {
   "cell_type": "code",
   "execution_count": 26,
   "metadata": {},
   "outputs": [
    {
     "data": {
      "text/plain": [
       "[<Experiment: artifact_location='mlflow-artifacts:/8', creation_time=1706888110103, experiment_id='8', last_update_time=1706888110103, lifecycle_stage='active', name='random-forest-hyperopt_1', tags={}>,\n",
       " <Experiment: artifact_location='mlflow-artifacts:/5', creation_time=1706856376705, experiment_id='5', last_update_time=1706856376705, lifecycle_stage='active', name='2_homework', tags={}>,\n",
       " <Experiment: artifact_location='mlflow-artifacts:/4', creation_time=1706710158792, experiment_id='4', last_update_time=1706710158792, lifecycle_stage='active', name='lightgbm prediction experiment', tags={}>,\n",
       " <Experiment: artifact_location='mlflow-artifacts:/3', creation_time=1706708938289, experiment_id='3', last_update_time=1706708938289, lifecycle_stage='active', name='2_model_registry', tags={}>,\n",
       " <Experiment: artifact_location='/home/ubuntu/notebooks/mlruns/2', creation_time=1705592485729, experiment_id='2', last_update_time=1705592485729, lifecycle_stage='active', name='nyc_taxi_experiment', tags={}>,\n",
       " <Experiment: artifact_location='/home/ubuntu/notebooks/mlruns/1', creation_time=1705591891060, experiment_id='1', last_update_time=1705591891060, lifecycle_stage='active', name='nyc-taxi-experiment', tags={}>,\n",
       " <Experiment: artifact_location='mlflow-artifacts:/0', creation_time=1705588661834, experiment_id='0', last_update_time=1705588661834, lifecycle_stage='active', name='Default', tags={}>]"
      ]
     },
     "execution_count": 26,
     "metadata": {},
     "output_type": "execute_result"
    }
   ],
   "source": [
    "client.search_experiments()"
   ]
  },
  {
   "cell_type": "code",
   "execution_count": 40,
   "metadata": {},
   "outputs": [
    {
     "data": {
      "text/plain": [
       "'9'"
      ]
     },
     "execution_count": 40,
     "metadata": {},
     "output_type": "execute_result"
    }
   ],
   "source": [
    "runs[0].data.tags['Trial No']\n"
   ]
  },
  {
   "cell_type": "code",
   "execution_count": 48,
   "metadata": {},
   "outputs": [
    {
     "data": {
      "text/plain": [
       "[<Run: data=<RunData: metrics={'rmse': 2.4525004209611474}, params={'max_depth': '10',\n",
       "  'min_samples_leaf': '2',\n",
       "  'min_samples_split': '8',\n",
       "  'n_estimators': '43'}, tags={'Trial No': '9',\n",
       "  'mlflow.log-model.history': '[{\"run_id\": \"3d50426d14a644f1855735d7e2286774\", '\n",
       "                              '\"artifact_path\": \"models\", \"utc_time_created\": '\n",
       "                              '\"2024-02-02 15:36:24.064327\", \"flavors\": '\n",
       "                              '{\"python_function\": {\"model_path\": \"model.pkl\", '\n",
       "                              '\"predict_fn\": \"predict\", \"loader_module\": '\n",
       "                              '\"mlflow.sklearn\", \"python_version\": \"3.11.5\", '\n",
       "                              '\"env\": {\"conda\": \"conda.yaml\", \"virtualenv\": '\n",
       "                              '\"python_env.yaml\"}}, \"sklearn\": '\n",
       "                              '{\"pickled_model\": \"model.pkl\", '\n",
       "                              '\"sklearn_version\": \"1.3.2\", '\n",
       "                              '\"serialization_format\": \"cloudpickle\", \"code\": '\n",
       "                              'null}}, \"model_uuid\": '\n",
       "                              '\"14ec97c95eed481287ed9218ecedbae5\", '\n",
       "                              '\"mlflow_version\": \"2.9.2\", \"model_size_bytes\": '\n",
       "                              '967001}]',\n",
       "  'mlflow.runName': 'upbeat-hog-466',\n",
       "  'mlflow.source.name': '/home/ubuntu/miniconda3/lib/python3.11/site-packages/ipykernel_launcher.py',\n",
       "  'mlflow.source.type': 'LOCAL',\n",
       "  'mlflow.user': 'ubuntu'}>, info=<RunInfo: artifact_uri='mlflow-artifacts:/8/3d50426d14a644f1855735d7e2286774/artifacts', end_time=1706888186105, experiment_id='8', lifecycle_stage='active', run_id='3d50426d14a644f1855735d7e2286774', run_name='upbeat-hog-466', run_uuid='3d50426d14a644f1855735d7e2286774', start_time=1706888178929, status='FINISHED', user_id='ubuntu'>, inputs=<RunInputs: dataset_inputs=[]>>,\n",
       " <Run: data=<RunData: metrics={'rmse': 2.483952634386172}, params={'max_depth': '2',\n",
       "  'min_samples_leaf': '4',\n",
       "  'min_samples_split': '4',\n",
       "  'n_estimators': '32'}, tags={'Trial No': '8',\n",
       "  'mlflow.log-model.history': '[{\"run_id\": \"4f065e83408f400b81e36546d3fe97a5\", '\n",
       "                              '\"artifact_path\": \"models\", \"utc_time_created\": '\n",
       "                              '\"2024-02-02 15:36:16.914936\", \"flavors\": '\n",
       "                              '{\"python_function\": {\"model_path\": \"model.pkl\", '\n",
       "                              '\"predict_fn\": \"predict\", \"loader_module\": '\n",
       "                              '\"mlflow.sklearn\", \"python_version\": \"3.11.5\", '\n",
       "                              '\"env\": {\"conda\": \"conda.yaml\", \"virtualenv\": '\n",
       "                              '\"python_env.yaml\"}}, \"sklearn\": '\n",
       "                              '{\"pickled_model\": \"model.pkl\", '\n",
       "                              '\"sklearn_version\": \"1.3.2\", '\n",
       "                              '\"serialization_format\": \"cloudpickle\", \"code\": '\n",
       "                              'null}}, \"model_uuid\": '\n",
       "                              '\"3e32916988f8449385c37a4494057c99\", '\n",
       "                              '\"mlflow_version\": \"2.9.2\", \"model_size_bytes\": '\n",
       "                              '25046}]',\n",
       "  'mlflow.runName': 'unruly-ram-103',\n",
       "  'mlflow.source.name': '/home/ubuntu/miniconda3/lib/python3.11/site-packages/ipykernel_launcher.py',\n",
       "  'mlflow.source.type': 'LOCAL',\n",
       "  'mlflow.user': 'ubuntu'}>, info=<RunInfo: artifact_uri='mlflow-artifacts:/8/4f065e83408f400b81e36546d3fe97a5/artifacts', end_time=1706888178916, experiment_id='8', lifecycle_stage='active', run_id='4f065e83408f400b81e36546d3fe97a5', run_name='unruly-ram-103', run_uuid='4f065e83408f400b81e36546d3fe97a5', start_time=1706888176238, status='FINISHED', user_id='ubuntu'>, inputs=<RunInputs: dataset_inputs=[]>>,\n",
       " <Run: data=<RunData: metrics={'rmse': 2.4541242038507383}, params={'max_depth': '9',\n",
       "  'min_samples_leaf': '2',\n",
       "  'min_samples_split': '9',\n",
       "  'n_estimators': '39'}, tags={'Trial No': '7',\n",
       "  'mlflow.log-model.history': '[{\"run_id\": \"7495ae9c56eb490cac52d5843a983cb6\", '\n",
       "                              '\"artifact_path\": \"models\", \"utc_time_created\": '\n",
       "                              '\"2024-02-02 15:36:14.229323\", \"flavors\": '\n",
       "                              '{\"python_function\": {\"model_path\": \"model.pkl\", '\n",
       "                              '\"predict_fn\": \"predict\", \"loader_module\": '\n",
       "                              '\"mlflow.sklearn\", \"python_version\": \"3.11.5\", '\n",
       "                              '\"env\": {\"conda\": \"conda.yaml\", \"virtualenv\": '\n",
       "                              '\"python_env.yaml\"}}, \"sklearn\": '\n",
       "                              '{\"pickled_model\": \"model.pkl\", '\n",
       "                              '\"sklearn_version\": \"1.3.2\", '\n",
       "                              '\"serialization_format\": \"cloudpickle\", \"code\": '\n",
       "                              'null}}, \"model_uuid\": '\n",
       "                              '\"6c34a6b07b894d2eb029fa1b9528a044\", '\n",
       "                              '\"mlflow_version\": \"2.9.2\", \"model_size_bytes\": '\n",
       "                              '605159}]',\n",
       "  'mlflow.runName': 'carefree-calf-506',\n",
       "  'mlflow.source.name': '/home/ubuntu/miniconda3/lib/python3.11/site-packages/ipykernel_launcher.py',\n",
       "  'mlflow.source.type': 'LOCAL',\n",
       "  'mlflow.user': 'ubuntu'}>, info=<RunInfo: artifact_uri='mlflow-artifacts:/8/7495ae9c56eb490cac52d5843a983cb6/artifacts', end_time=1706888176219, experiment_id='8', lifecycle_stage='active', run_id='7495ae9c56eb490cac52d5843a983cb6', run_name='carefree-calf-506', run_uuid='7495ae9c56eb490cac52d5843a983cb6', start_time=1706888170147, status='FINISHED', user_id='ubuntu'>, inputs=<RunInputs: dataset_inputs=[]>>,\n",
       " <Run: data=<RunData: metrics={'rmse': 2.4535062634485025}, params={'max_depth': '8',\n",
       "  'min_samples_leaf': '3',\n",
       "  'min_samples_split': '8',\n",
       "  'n_estimators': '47'}, tags={'Trial No': '6',\n",
       "  'mlflow.log-model.history': '[{\"run_id\": \"4f02845e25e14b66bb4670fceb1becc4\", '\n",
       "                              '\"artifact_path\": \"models\", \"utc_time_created\": '\n",
       "                              '\"2024-02-02 15:36:08.138484\", \"flavors\": '\n",
       "                              '{\"python_function\": {\"model_path\": \"model.pkl\", '\n",
       "                              '\"predict_fn\": \"predict\", \"loader_module\": '\n",
       "                              '\"mlflow.sklearn\", \"python_version\": \"3.11.5\", '\n",
       "                              '\"env\": {\"conda\": \"conda.yaml\", \"virtualenv\": '\n",
       "                              '\"python_env.yaml\"}}, \"sklearn\": '\n",
       "                              '{\"pickled_model\": \"model.pkl\", '\n",
       "                              '\"sklearn_version\": \"1.3.2\", '\n",
       "                              '\"serialization_format\": \"cloudpickle\", \"code\": '\n",
       "                              'null}}, \"model_uuid\": '\n",
       "                              '\"dc420dc7e79747e798a74d9a8cf2a5c7\", '\n",
       "                              '\"mlflow_version\": \"2.9.2\", \"model_size_bytes\": '\n",
       "                              '682703}]',\n",
       "  'mlflow.runName': 'gifted-horse-904',\n",
       "  'mlflow.source.name': '/home/ubuntu/miniconda3/lib/python3.11/site-packages/ipykernel_launcher.py',\n",
       "  'mlflow.source.type': 'LOCAL',\n",
       "  'mlflow.user': 'ubuntu'}>, info=<RunInfo: artifact_uri='mlflow-artifacts:/8/4f02845e25e14b66bb4670fceb1becc4/artifacts', end_time=1706888170134, experiment_id='8', lifecycle_stage='active', run_id='4f02845e25e14b66bb4670fceb1becc4', run_name='gifted-horse-904', run_uuid='4f02845e25e14b66bb4670fceb1becc4', start_time=1706888163726, status='FINISHED', user_id='ubuntu'>, inputs=<RunInputs: dataset_inputs=[]>>,\n",
       " <Run: data=<RunData: metrics={'rmse': 2.4526381369438814}, params={'max_depth': '8',\n",
       "  'min_samples_leaf': '3',\n",
       "  'min_samples_split': '9',\n",
       "  'n_estimators': '21'}, tags={'Trial No': '5',\n",
       "  'mlflow.log-model.history': '[{\"run_id\": \"efd1d85059004a26a7ef297b4c2818b1\", '\n",
       "                              '\"artifact_path\": \"models\", \"utc_time_created\": '\n",
       "                              '\"2024-02-02 15:36:01.761209\", \"flavors\": '\n",
       "                              '{\"python_function\": {\"model_path\": \"model.pkl\", '\n",
       "                              '\"predict_fn\": \"predict\", \"loader_module\": '\n",
       "                              '\"mlflow.sklearn\", \"python_version\": \"3.11.5\", '\n",
       "                              '\"env\": {\"conda\": \"conda.yaml\", \"virtualenv\": '\n",
       "                              '\"python_env.yaml\"}}, \"sklearn\": '\n",
       "                              '{\"pickled_model\": \"model.pkl\", '\n",
       "                              '\"sklearn_version\": \"1.3.2\", '\n",
       "                              '\"serialization_format\": \"cloudpickle\", \"code\": '\n",
       "                              'null}}, \"model_uuid\": '\n",
       "                              '\"d68a4e9bb9d34377bd103a9b14f9802f\", '\n",
       "                              '\"mlflow_version\": \"2.9.2\", \"model_size_bytes\": '\n",
       "                              '295745}]',\n",
       "  'mlflow.runName': 'dazzling-owl-81',\n",
       "  'mlflow.source.name': '/home/ubuntu/miniconda3/lib/python3.11/site-packages/ipykernel_launcher.py',\n",
       "  'mlflow.source.type': 'LOCAL',\n",
       "  'mlflow.user': 'ubuntu'}>, info=<RunInfo: artifact_uri='mlflow-artifacts:/8/efd1d85059004a26a7ef297b4c2818b1/artifacts', end_time=1706888163714, experiment_id='8', lifecycle_stage='active', run_id='efd1d85059004a26a7ef297b4c2818b1', run_name='dazzling-owl-81', run_uuid='efd1d85059004a26a7ef297b4c2818b1', start_time=1706888159718, status='FINISHED', user_id='ubuntu'>, inputs=<RunInputs: dataset_inputs=[]>>,\n",
       " <Run: data=<RunData: metrics={'rmse': 2.456601269454709}, params={'max_depth': '16',\n",
       "  'min_samples_leaf': '1',\n",
       "  'min_samples_split': '4',\n",
       "  'n_estimators': '27'}, tags={'Trial No': '4',\n",
       "  'mlflow.log-model.history': '[{\"run_id\": \"ea3a6df6a92f4a5daf642701685b365d\", '\n",
       "                              '\"artifact_path\": \"models\", \"utc_time_created\": '\n",
       "                              '\"2024-02-02 15:35:57.669808\", \"flavors\": '\n",
       "                              '{\"python_function\": {\"model_path\": \"model.pkl\", '\n",
       "                              '\"predict_fn\": \"predict\", \"loader_module\": '\n",
       "                              '\"mlflow.sklearn\", \"python_version\": \"3.11.5\", '\n",
       "                              '\"env\": {\"conda\": \"conda.yaml\", \"virtualenv\": '\n",
       "                              '\"python_env.yaml\"}}, \"sklearn\": '\n",
       "                              '{\"pickled_model\": \"model.pkl\", '\n",
       "                              '\"sklearn_version\": \"1.3.2\", '\n",
       "                              '\"serialization_format\": \"cloudpickle\", \"code\": '\n",
       "                              'null}}, \"model_uuid\": '\n",
       "                              '\"83c057171cfb4f2190dbbeb9280626a4\", '\n",
       "                              '\"mlflow_version\": \"2.9.2\", \"model_size_bytes\": '\n",
       "                              '1696244}]',\n",
       "  'mlflow.runName': 'thundering-chimp-697',\n",
       "  'mlflow.source.name': '/home/ubuntu/miniconda3/lib/python3.11/site-packages/ipykernel_launcher.py',\n",
       "  'mlflow.source.type': 'LOCAL',\n",
       "  'mlflow.user': 'ubuntu'}>, info=<RunInfo: artifact_uri='mlflow-artifacts:/8/ea3a6df6a92f4a5daf642701685b365d/artifacts', end_time=1706888159703, experiment_id='8', lifecycle_stage='active', run_id='ea3a6df6a92f4a5daf642701685b365d', run_name='thundering-chimp-697', run_uuid='ea3a6df6a92f4a5daf642701685b365d', start_time=1706888152019, status='FINISHED', user_id='ubuntu'>, inputs=<RunInputs: dataset_inputs=[]>>,\n",
       " <Run: data=<RunData: metrics={'rmse': 2.4587050366466663}, params={'max_depth': '7',\n",
       "  'min_samples_leaf': '2',\n",
       "  'min_samples_split': '6',\n",
       "  'n_estimators': '10'}, tags={'Trial No': '3',\n",
       "  'mlflow.log-model.history': '[{\"run_id\": \"1bdfd6bf5826476cbc370a66525e4b37\", '\n",
       "                              '\"artifact_path\": \"models\", \"utc_time_created\": '\n",
       "                              '\"2024-02-02 15:35:50.033477\", \"flavors\": '\n",
       "                              '{\"python_function\": {\"model_path\": \"model.pkl\", '\n",
       "                              '\"predict_fn\": \"predict\", \"loader_module\": '\n",
       "                              '\"mlflow.sklearn\", \"python_version\": \"3.11.5\", '\n",
       "                              '\"env\": {\"conda\": \"conda.yaml\", \"virtualenv\": '\n",
       "                              '\"python_env.yaml\"}}, \"sklearn\": '\n",
       "                              '{\"pickled_model\": \"model.pkl\", '\n",
       "                              '\"sklearn_version\": \"1.3.2\", '\n",
       "                              '\"serialization_format\": \"cloudpickle\", \"code\": '\n",
       "                              'null}}, \"model_uuid\": '\n",
       "                              '\"96260777d7464fda83232fbc381fc1e8\", '\n",
       "                              '\"mlflow_version\": \"2.9.2\", \"model_size_bytes\": '\n",
       "                              '86765}]',\n",
       "  'mlflow.runName': 'burly-cod-866',\n",
       "  'mlflow.source.name': '/home/ubuntu/miniconda3/lib/python3.11/site-packages/ipykernel_launcher.py',\n",
       "  'mlflow.source.type': 'LOCAL',\n",
       "  'mlflow.user': 'ubuntu'}>, info=<RunInfo: artifact_uri='mlflow-artifacts:/8/1bdfd6bf5826476cbc370a66525e4b37/artifacts', end_time=1706888152007, experiment_id='8', lifecycle_stage='active', run_id='1bdfd6bf5826476cbc370a66525e4b37', run_name='burly-cod-866', run_uuid='1bdfd6bf5826476cbc370a66525e4b37', start_time=1706888149221, status='FINISHED', user_id='ubuntu'>, inputs=<RunInputs: dataset_inputs=[]>>,\n",
       " <Run: data=<RunData: metrics={'rmse': 2.454700065963907}, params={'max_depth': '18',\n",
       "  'min_samples_leaf': '1',\n",
       "  'min_samples_split': '2',\n",
       "  'n_estimators': '31'}, tags={'Trial No': '2',\n",
       "  'mlflow.log-model.history': '[{\"run_id\": \"2bcd2da272e5492d872e3547f2b1e089\", '\n",
       "                              '\"artifact_path\": \"models\", \"utc_time_created\": '\n",
       "                              '\"2024-02-02 15:35:47.139720\", \"flavors\": '\n",
       "                              '{\"python_function\": {\"model_path\": \"model.pkl\", '\n",
       "                              '\"predict_fn\": \"predict\", \"loader_module\": '\n",
       "                              '\"mlflow.sklearn\", \"python_version\": \"3.11.5\", '\n",
       "                              '\"env\": {\"conda\": \"conda.yaml\", \"virtualenv\": '\n",
       "                              '\"python_env.yaml\"}}, \"sklearn\": '\n",
       "                              '{\"pickled_model\": \"model.pkl\", '\n",
       "                              '\"sklearn_version\": \"1.3.2\", '\n",
       "                              '\"serialization_format\": \"cloudpickle\", \"code\": '\n",
       "                              'null}}, \"model_uuid\": '\n",
       "                              '\"560ab8b33f3c453795379b6165a0ca0a\", '\n",
       "                              '\"mlflow_version\": \"2.9.2\", \"model_size_bytes\": '\n",
       "                              '3204863}]',\n",
       "  'mlflow.runName': 'abundant-sloth-950',\n",
       "  'mlflow.source.name': '/home/ubuntu/miniconda3/lib/python3.11/site-packages/ipykernel_launcher.py',\n",
       "  'mlflow.source.type': 'LOCAL',\n",
       "  'mlflow.user': 'ubuntu'}>, info=<RunInfo: artifact_uri='mlflow-artifacts:/8/2bcd2da272e5492d872e3547f2b1e089/artifacts', end_time=1706888149204, experiment_id='8', lifecycle_stage='active', run_id='2bcd2da272e5492d872e3547f2b1e089', run_name='abundant-sloth-950', run_uuid='2bcd2da272e5492d872e3547f2b1e089', start_time=1706888138659, status='FINISHED', user_id='ubuntu'>, inputs=<RunInputs: dataset_inputs=[]>>,\n",
       " <Run: data=<RunData: metrics={'rmse': 2.454036643638431}, params={'max_depth': '20',\n",
       "  'min_samples_leaf': '1',\n",
       "  'min_samples_split': '2',\n",
       "  'n_estimators': '49'}, tags={'Trial No': '1',\n",
       "  'mlflow.log-model.history': '[{\"run_id\": \"ff38ba78e99445b089e6685a12ed246f\", '\n",
       "                              '\"artifact_path\": \"models\", \"utc_time_created\": '\n",
       "                              '\"2024-02-02 15:35:36.579855\", \"flavors\": '\n",
       "                              '{\"python_function\": {\"model_path\": \"model.pkl\", '\n",
       "                              '\"predict_fn\": \"predict\", \"loader_module\": '\n",
       "                              '\"mlflow.sklearn\", \"python_version\": \"3.11.5\", '\n",
       "                              '\"env\": {\"conda\": \"conda.yaml\", \"virtualenv\": '\n",
       "                              '\"python_env.yaml\"}}, \"sklearn\": '\n",
       "                              '{\"pickled_model\": \"model.pkl\", '\n",
       "                              '\"sklearn_version\": \"1.3.2\", '\n",
       "                              '\"serialization_format\": \"cloudpickle\", \"code\": '\n",
       "                              'null}}, \"model_uuid\": '\n",
       "                              '\"bf2eb2d79af041d29f3fd68bff933d37\", '\n",
       "                              '\"mlflow_version\": \"2.9.2\", \"model_size_bytes\": '\n",
       "                              '6507485}]',\n",
       "  'mlflow.runName': 'auspicious-mare-44',\n",
       "  'mlflow.source.name': '/home/ubuntu/miniconda3/lib/python3.11/site-packages/ipykernel_launcher.py',\n",
       "  'mlflow.source.type': 'LOCAL',\n",
       "  'mlflow.user': 'ubuntu'}>, info=<RunInfo: artifact_uri='mlflow-artifacts:/8/ff38ba78e99445b089e6685a12ed246f/artifacts', end_time=1706888138646, experiment_id='8', lifecycle_stage='active', run_id='ff38ba78e99445b089e6685a12ed246f', run_name='auspicious-mare-44', run_uuid='ff38ba78e99445b089e6685a12ed246f', start_time=1706888120703, status='FINISHED', user_id='ubuntu'>, inputs=<RunInputs: dataset_inputs=[]>>,\n",
       " <Run: data=<RunData: metrics={'rmse': 2.4500656736687114}, params={'max_depth': '19',\n",
       "  'min_samples_leaf': '4',\n",
       "  'min_samples_split': '10',\n",
       "  'n_estimators': '28'}, tags={'Trial No': '0',\n",
       "  'mlflow.log-model.history': '[{\"run_id\": \"72fb9935fdef44d5aebf56a4edcd20cd\", '\n",
       "                              '\"artifact_path\": \"models\", \"utc_time_created\": '\n",
       "                              '\"2024-02-02 15:35:18.688504\", \"flavors\": '\n",
       "                              '{\"python_function\": {\"model_path\": \"model.pkl\", '\n",
       "                              '\"predict_fn\": \"predict\", \"loader_module\": '\n",
       "                              '\"mlflow.sklearn\", \"python_version\": \"3.11.5\", '\n",
       "                              '\"env\": {\"conda\": \"conda.yaml\", \"virtualenv\": '\n",
       "                              '\"python_env.yaml\"}}, \"sklearn\": '\n",
       "                              '{\"pickled_model\": \"model.pkl\", '\n",
       "                              '\"sklearn_version\": \"1.3.2\", '\n",
       "                              '\"serialization_format\": \"cloudpickle\", \"code\": '\n",
       "                              'null}}, \"model_uuid\": '\n",
       "                              '\"7262ccedae1140cb820d269ae8529f4c\", '\n",
       "                              '\"mlflow_version\": \"2.9.2\", \"model_size_bytes\": '\n",
       "                              '3515210}]',\n",
       "  'mlflow.runName': 'bittersweet-frog-448',\n",
       "  'mlflow.source.name': '/home/ubuntu/miniconda3/lib/python3.11/site-packages/ipykernel_launcher.py',\n",
       "  'mlflow.source.type': 'LOCAL',\n",
       "  'mlflow.user': 'ubuntu'}>, info=<RunInfo: artifact_uri='mlflow-artifacts:/8/72fb9935fdef44d5aebf56a4edcd20cd/artifacts', end_time=1706888120689, experiment_id='8', lifecycle_stage='active', run_id='72fb9935fdef44d5aebf56a4edcd20cd', run_name='bittersweet-frog-448', run_uuid='72fb9935fdef44d5aebf56a4edcd20cd', start_time=1706888110122, status='FINISHED', user_id='ubuntu'>, inputs=<RunInputs: dataset_inputs=[]>>]"
      ]
     },
     "execution_count": 48,
     "metadata": {},
     "output_type": "execute_result"
    }
   ],
   "source": [
    "runs = client.search_runs(experiment_ids=8)\n",
    "runs"
   ]
  },
  {
   "cell_type": "code",
   "execution_count": 51,
   "metadata": {},
   "outputs": [
    {
     "name": "stdout",
     "output_type": "stream",
     "text": [
      "The best rmse score is 2.4500656736687114 for trial no 0\n"
     ]
    }
   ],
   "source": [
    "runs = client.search_runs(experiment_ids=8)\n",
    "for run in runs:\n",
    "    best_rmse = 1000\n",
    "    best_trial = 0\n",
    "    if run.data.metrics['rmse'] < best_rmse:\n",
    "        best_rmse = run.data.metrics['rmse']\n",
    "        best_trial = run.data.tags['Trial No']\n",
    "    \n",
    "\n",
    "print(f\"The best rmse score is {best_rmse} for trial no {best_trial}\")"
   ]
  },
  {
   "cell_type": "markdown",
   "metadata": {},
   "source": [
    "---------------------------------------------------------"
   ]
  },
  {
   "cell_type": "markdown",
   "metadata": {},
   "source": [
    "# Q5"
   ]
  },
  {
   "cell_type": "code",
   "execution_count": 1,
   "metadata": {},
   "outputs": [],
   "source": [
    "##REGISTER THE BEST MODEL\n",
    "import mlflow\n",
    "from mlflow.client import MlflowClient\n",
    "from mlflow.entities import ViewType\n",
    "\n",
    "\n",
    "\n",
    "\n",
    "mlflow.set_tracking_uri(uri='http://localhost:5000')"
   ]
  },
  {
   "cell_type": "code",
   "execution_count": 2,
   "metadata": {},
   "outputs": [],
   "source": [
    "\n",
    "client = MlflowClient(tracking_uri=\"http://localhost:5000\")    "
   ]
  },
  {
   "cell_type": "code",
   "execution_count": 3,
   "metadata": {},
   "outputs": [],
   "source": [
    "runs = client.search_runs(experiment_ids=8)\n",
    "scores = dict()\n",
    "runid = []\n",
    "for run in runs:\n",
    "    scores[run.info.run_id]=run.data.metrics['rmse']\n",
    "    runid.append(run.info.run_id)"
   ]
  },
  {
   "cell_type": "code",
   "execution_count": 4,
   "metadata": {},
   "outputs": [
    {
     "data": {
      "text/plain": [
       "{'3d50426d14a644f1855735d7e2286774': 2.4525004209611474,\n",
       " '4f065e83408f400b81e36546d3fe97a5': 2.483952634386172,\n",
       " '7495ae9c56eb490cac52d5843a983cb6': 2.4541242038507383,\n",
       " '4f02845e25e14b66bb4670fceb1becc4': 2.4535062634485025,\n",
       " 'efd1d85059004a26a7ef297b4c2818b1': 2.4526381369438814,\n",
       " 'ea3a6df6a92f4a5daf642701685b365d': 2.456601269454709,\n",
       " '1bdfd6bf5826476cbc370a66525e4b37': 2.4587050366466663,\n",
       " '2bcd2da272e5492d872e3547f2b1e089': 2.454700065963907,\n",
       " 'ff38ba78e99445b089e6685a12ed246f': 2.454036643638431,\n",
       " '72fb9935fdef44d5aebf56a4edcd20cd': 2.4500656736687114}"
      ]
     },
     "execution_count": 4,
     "metadata": {},
     "output_type": "execute_result"
    }
   ],
   "source": [
    "scores"
   ]
  },
  {
   "cell_type": "code",
   "execution_count": 5,
   "metadata": {},
   "outputs": [],
   "source": [
    "sorted_scores=sorted(scores.items(),key=lambda item: item[1])\n",
    "#Now we have sorted the items"
   ]
  },
  {
   "cell_type": "code",
   "execution_count": 8,
   "metadata": {},
   "outputs": [
    {
     "name": "stdout",
     "output_type": "stream",
     "text": [
      "('72fb9935fdef44d5aebf56a4edcd20cd', 2.4500656736687114)\n",
      "('3d50426d14a644f1855735d7e2286774', 2.4525004209611474)\n",
      "('efd1d85059004a26a7ef297b4c2818b1', 2.4526381369438814)\n",
      "('4f02845e25e14b66bb4670fceb1becc4', 2.4535062634485025)\n",
      "('ff38ba78e99445b089e6685a12ed246f', 2.454036643638431)\n"
     ]
    }
   ],
   "source": [
    "#Here we will have to select the top 5 results\n",
    "\n",
    "for i in sorted_scores[:5]:\n",
    "    print(i)"
   ]
  },
  {
   "cell_type": "code",
   "execution_count": 14,
   "metadata": {},
   "outputs": [],
   "source": [
    "from mlflow.store.artifact.runs_artifact_repo import RunsArtifactRepository"
   ]
  },
  {
   "cell_type": "markdown",
   "metadata": {},
   "source": [
    "# Following illustrates commands to execute the model registration using mlflow client"
   ]
  },
  {
   "cell_type": "code",
   "execution_count": 21,
   "metadata": {},
   "outputs": [
    {
     "name": "stderr",
     "output_type": "stream",
     "text": [
      "2024/02/02 23:50:51 INFO mlflow.store.model_registry.abstract_store: Waiting up to 300 seconds for model version to finish creation. Model name: model_new_0, version 1\n",
      "2024/02/02 23:50:51 INFO mlflow.store.model_registry.abstract_store: Waiting up to 300 seconds for model version to finish creation. Model name: model_new_1, version 1\n",
      "2024/02/02 23:50:51 INFO mlflow.store.model_registry.abstract_store: Waiting up to 300 seconds for model version to finish creation. Model name: model_new_2, version 1\n",
      "2024/02/02 23:50:52 INFO mlflow.store.model_registry.abstract_store: Waiting up to 300 seconds for model version to finish creation. Model name: model_new_3, version 1\n",
      "2024/02/02 23:50:52 INFO mlflow.store.model_registry.abstract_store: Waiting up to 300 seconds for model version to finish creation. Model name: model_new_4, version 1\n"
     ]
    }
   ],
   "source": [
    "for num, i in enumerate(sorted_scores[:5]):\n",
    "    runs_uri = f\"runs:/{i[0]}/models\"\n",
    "    model_source = RunsArtifactRepository.get_underlying_uri(runs_uri=runs_uri)\n",
    "    model_name = f\"model_new_{num}\"\n",
    "    client.create_registered_model(model_name)\n",
    "    client.create_model_version(model_name,source=model_source, run_id=i[0])\n",
    "    "
   ]
  },
  {
   "cell_type": "markdown",
   "metadata": {},
   "source": [
    "# Hence the Q5 has also been answered"
   ]
  },
  {
   "cell_type": "markdown",
   "metadata": {},
   "source": []
  }
 ],
 "metadata": {
  "kernelspec": {
   "display_name": "base",
   "language": "python",
   "name": "python3"
  },
  "language_info": {
   "codemirror_mode": {
    "name": "ipython",
    "version": 3
   },
   "file_extension": ".py",
   "mimetype": "text/x-python",
   "name": "python",
   "nbconvert_exporter": "python",
   "pygments_lexer": "ipython3",
   "version": "3.1.undefined"
  }
 },
 "nbformat": 4,
 "nbformat_minor": 2
}
