{
 "cells": [
  {
   "cell_type": "markdown",
   "metadata": {},
   "source": [
    "// Create a virtual env using pipenv, however the locking process takes a lot of time so we can avoid this by using``` pipenv install --skip-lock```\n",
    "aftewards we can create the lock file later by ```pipenv lock```\n",
    "\n",
    "\n",
    "//Then we go on creating the ```docker-compose.yml``` file"
   ]
  },
  {
   "cell_type": "markdown",
   "metadata": {},
   "source": [
    "// Afterwards we will go on building the docker image using ```docker compose up --build``` in the folder where the dockerfile or the docker-compose yaml resides"
   ]
  },
  {
   "cell_type": "markdown",
   "metadata": {},
   "source": [
    "// ```docker-compose.yml``` is to fetch images from dockerhub and configure it accordingly so that uses images mentioned in the ```docker-compose.yml```"
   ]
  },
  {
   "cell_type": "markdown",
   "metadata": {},
   "source": [
    "// Next we go on building ```dummy_metrics_calculation.py``` : where it doesnt use the orginal model but creates a set of dummy metric values which gets filled up in the database(postgres)"
   ]
  },
  {
   "cell_type": "code",
   "execution_count": 1,
   "metadata": {},
   "outputs": [],
   "source": [
    "import mlflow"
   ]
  },
  {
   "cell_type": "markdown",
   "metadata": {},
   "source": [
    "// Set the environment variables by ```export var_name=value```"
   ]
  },
  {
   "cell_type": "code",
   "execution_count": 6,
   "metadata": {},
   "outputs": [
    {
     "data": {
      "application/vnd.jupyter.widget-view+json": {
       "model_id": "f3b7f0572780422997de1767adcc6ebe",
       "version_major": 2,
       "version_minor": 0
      },
      "text/plain": [
       "Downloading artifacts:   0%|          | 0/5 [00:00<?, ?it/s]"
      ]
     },
     "metadata": {},
     "output_type": "display_data"
    }
   ],
   "source": [
    "#This is just a demonstration and not actually required to do for this job\n",
    "\n",
    "model = mlflow.sklearn.load_model(\"s3://mlflow-artifacts-remote-11/mlflow_artifacts/7f6c9b37be7041d89ed1abc9d4f14836/artifacts/model/\")"
   ]
  },
  {
   "cell_type": "markdown",
   "metadata": {},
   "source": [
    "// This si the actual step"
   ]
  },
  {
   "cell_type": "code",
   "execution_count": 7,
   "metadata": {},
   "outputs": [],
   "source": [
    "import lightgbm as lgb\n",
    "import pickle\n",
    "\n",
    "with open('lgb.pkl','rb') as f_out:\n",
    "    model = pickle.load(f_out)"
   ]
  },
  {
   "cell_type": "code",
   "execution_count": 8,
   "metadata": {},
   "outputs": [
    {
     "data": {
      "text/plain": [
       "<lightgbm.basic.Booster at 0x7f86d1c32910>"
      ]
     },
     "execution_count": 8,
     "metadata": {},
     "output_type": "execute_result"
    }
   ],
   "source": [
    "model"
   ]
  },
  {
   "cell_type": "code",
   "execution_count": null,
   "metadata": {},
   "outputs": [],
   "source": []
  }
 ],
 "metadata": {
  "kernelspec": {
   "display_name": "Python 3",
   "language": "python",
   "name": "python3"
  },
  "language_info": {
   "codemirror_mode": {
    "name": "ipython",
    "version": 3
   },
   "file_extension": ".py",
   "mimetype": "text/x-python",
   "name": "python",
   "nbconvert_exporter": "python",
   "pygments_lexer": "ipython3",
   "version": "3.11.6"
  }
 },
 "nbformat": 4,
 "nbformat_minor": 2
}
