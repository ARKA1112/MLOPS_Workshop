{
 "cells": [
  {
   "cell_type": "markdown",
   "metadata": {},
   "source": [
    "First we need to check the version for the framework we built our model on,\n",
    "For here it is scikit-learn, because we created,trained and predicted on an extra trees regressor and saved it as extra_trees_reg.bin\n",
    "\n",
    "```pip freeze | grep scikit-learn```"
   ]
  },
  {
   "cell_type": "code",
   "execution_count": 3,
   "metadata": {},
   "outputs": [
    {
     "data": {
      "text/plain": [
       "'1.3.2'"
      ]
     },
     "execution_count": 3,
     "metadata": {},
     "output_type": "execute_result"
    }
   ],
   "source": [
    "import sklearn\n",
    "sklearn.__version__"
   ]
  },
  {
   "cell_type": "markdown",
   "metadata": {},
   "source": [
    "create a python environment using pipenv install ....then followed by necessary packages to install there\n",
    "\n",
    "```pipenv install scikit-learn flask --python==version```\n",
    "\n",
    "following installation start the shell with\n",
    "\n",
    "```pipenv shell```\n",
    "\n",
    "simillar to \n",
    "```conda activate env```\n",
    "\n"
   ]
  },
  {
   "cell_type": "markdown",
   "metadata": {},
   "source": [
    "next for convenience shorten the prompt using PS1 = \"> \", this changes the prompt to only \"> \" symbol with no text at all"
   ]
  },
  {
   "cell_type": "markdown",
   "metadata": {},
   "source": []
  }
 ],
 "metadata": {
  "kernelspec": {
   "display_name": "Python 3",
   "language": "python",
   "name": "python3"
  },
  "language_info": {
   "codemirror_mode": {
    "name": "ipython",
    "version": 3
   },
   "file_extension": ".py",
   "mimetype": "text/x-python",
   "name": "python",
   "nbconvert_exporter": "python",
   "pygments_lexer": "ipython3",
   "version": "3.11.6"
  }
 },
 "nbformat": 4,
 "nbformat_minor": 2
}
