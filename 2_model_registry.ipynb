{
 "cells": [
  {
   "cell_type": "code",
   "execution_count": 18,
   "metadata": {},
   "outputs": [],
   "source": [
    "import numpy as np\n",
    "import pandas as pd"
   ]
  },
  {
   "cell_type": "code",
   "execution_count": 1,
   "metadata": {},
   "outputs": [],
   "source": [
    "import mlflow\n",
    "mlflow.set_tracking_uri(uri=\"http://localhost:5000\")"
   ]
  },
  {
   "cell_type": "code",
   "execution_count": 8,
   "metadata": {},
   "outputs": [],
   "source": [
    "import lightgbm as lgb\n",
    "\n",
    "lgbc = lgb.Booster(model_file='lightgbm/lgb.txt')"
   ]
  },
  {
   "cell_type": "markdown",
   "metadata": {},
   "source": []
  },
  {
   "cell_type": "markdown",
   "metadata": {},
   "source": [
    "We used our saved lightgbm model "
   ]
  },
  {
   "cell_type": "code",
   "execution_count": 24,
   "metadata": {},
   "outputs": [
    {
     "data": {
      "text/plain": [
       "1"
      ]
     },
     "execution_count": 24,
     "metadata": {},
     "output_type": "execute_result"
    }
   ],
   "source": [
    "np.argmax(lgbc.predict([[-0.657196,-2.27162,1.324874,-0.097875,3.637970,-3.413761,0.790723217]]),axis=1).item()"
   ]
  },
  {
   "cell_type": "code",
   "execution_count": 32,
   "metadata": {},
   "outputs": [
    {
     "name": "stderr",
     "output_type": "stream",
     "text": [
      "2024/01/31 13:58:39 WARNING mlflow.sklearn: Model was missing function: predict. Not logging python_function flavor!\n"
     ]
    },
    {
     "name": "stderr",
     "output_type": "stream",
     "text": [
      "/home/ubuntu/miniconda3/lib/python3.11/site-packages/_distutils_hack/__init__.py:18: UserWarning: Distutils was imported before Setuptools, but importing Setuptools also replaces the `distutils` module in `sys.modules`. This may lead to undesirable behaviors or errors. To avoid these issues, avoid using distutils directly, ensure that setuptools is installed in the traditional way (e.g. not an editable install), and/or make sure that setuptools is always imported before distutils.\n",
      "  warnings.warn(\n",
      "/home/ubuntu/miniconda3/lib/python3.11/site-packages/_distutils_hack/__init__.py:33: UserWarning: Setuptools is replacing distutils.\n",
      "  warnings.warn(\"Setuptools is replacing distutils.\")\n"
     ]
    }
   ],
   "source": [
    "mlflow.set_experiment('2_model_registry')\n",
    "with mlflow.start_run():\n",
    "    mlflow.log_params(lgbc.params)\n",
    "    mlflow.set_tag(\"Model\",\"lightgbm\")\n",
    "\n",
    "    mlflow.sklearn.log_model('lgbc',artifact_path='models')\n",
    "    mlflow.set_tag(\"Prediction\",np.argmax(lgbc.predict([[-0.657196,-2.27162,1.324874,-0.097875,3.637970,-3.413761,0.790723217]]),axis=1).item())"
   ]
  },
  {
   "cell_type": "code",
   "execution_count": 33,
   "metadata": {},
   "outputs": [],
   "source": [
    "from mlflow.tracking import MlflowClient"
   ]
  },
  {
   "cell_type": "code",
   "execution_count": 36,
   "metadata": {},
   "outputs": [],
   "source": [
    "client= MlflowClient(tracking_uri=mlflow.get_tracking_uri())"
   ]
  },
  {
   "cell_type": "code",
   "execution_count": 43,
   "metadata": {},
   "outputs": [
    {
     "data": {
      "text/plain": [
       "[<Experiment: artifact_location='mlflow-artifacts:/3', creation_time=1706708938289, experiment_id='3', last_update_time=1706708938289, lifecycle_stage='active', name='2_model_registry', tags={}>,\n",
       " <Experiment: artifact_location='/home/ubuntu/notebooks/mlruns/2', creation_time=1705592485729, experiment_id='2', last_update_time=1705592485729, lifecycle_stage='active', name='nyc_taxi_experiment', tags={}>,\n",
       " <Experiment: artifact_location='/home/ubuntu/notebooks/mlruns/1', creation_time=1705591891060, experiment_id='1', last_update_time=1705591891060, lifecycle_stage='active', name='nyc-taxi-experiment', tags={}>,\n",
       " <Experiment: artifact_location='mlflow-artifacts:/0', creation_time=1705588661834, experiment_id='0', last_update_time=1705588661834, lifecycle_stage='active', name='Default', tags={}>]"
      ]
     },
     "execution_count": 43,
     "metadata": {},
     "output_type": "execute_result"
    }
   ],
   "source": [
    "client.search_experiments()"
   ]
  },
  {
   "cell_type": "code",
   "execution_count": 44,
   "metadata": {},
   "outputs": [
    {
     "data": {
      "text/plain": [
       "'4'"
      ]
     },
     "execution_count": 44,
     "metadata": {},
     "output_type": "execute_result"
    }
   ],
   "source": [
    "client.create_experiment(\"lightgbm prediction experiment\")"
   ]
  },
  {
   "cell_type": "code",
   "execution_count": 62,
   "metadata": {},
   "outputs": [],
   "source": [
    "# lets check the versions\n",
    "from mlflow.entities import ViewType\n",
    "\n",
    "runs = client.search_runs(\n",
    "    experiment_ids=3,\n",
    "    #filter_string=\"metrics.rmse < 7\",\n",
    "    ##max_results=5,\n",
    "    #order_by=[\"metrics.rmse ASC\"]\n",
    ")"
   ]
  },
  {
   "cell_type": "code",
   "execution_count": 75,
   "metadata": {},
   "outputs": [
    {
     "name": "stdout",
     "output_type": "stream",
     "text": [
      "run id:66ab4427e1e041468c321b4083bcae69,tags: {'mlflow.user': 'ubuntu', 'mlflow.source.name': '/home/ubuntu/miniconda3/lib/python3.11/site-packages/ipykernel_launcher.py', 'mlflow.source.type': 'LOCAL', 'mlflow.runName': 'sassy-cub-23', 'Model': 'lightgbm', 'mlflow.log-model.history': '[{\"run_id\": \"66ab4427e1e041468c321b4083bcae69\", \"artifact_path\": \"models\", \"utc_time_created\": \"2024-01-31 13:58:39.874694\", \"flavors\": {\"sklearn\": {\"pickled_model\": \"model.pkl\", \"sklearn_version\": \"1.3.2\", \"serialization_format\": \"cloudpickle\", \"code\": null}}, \"model_uuid\": \"f6f20efbebda4aa683c56858ead8586c\", \"mlflow_version\": \"2.9.2\", \"model_size_bytes\": 19}]', 'Prediction': '1'}\n",
      "run id:3a9aa366f3be46bf9205f237781b64c4,tags: {'mlflow.user': 'ubuntu', 'mlflow.source.name': '/home/ubuntu/miniconda3/lib/python3.11/site-packages/ipykernel_launcher.py', 'mlflow.source.type': 'LOCAL', 'mlflow.runName': 'able-steed-395', 'Model': 'lightgbm', 'mlflow.log-model.history': '[{\"run_id\": \"3a9aa366f3be46bf9205f237781b64c4\", \"artifact_path\": \"models\", \"utc_time_created\": \"2024-01-31 13:51:19.486498\", \"flavors\": {\"sklearn\": {\"pickled_model\": \"model.pkl\", \"sklearn_version\": \"1.3.2\", \"serialization_format\": \"cloudpickle\", \"code\": null}}, \"model_uuid\": \"0fc8d0fe67ef4e169b5885f917c21a8d\", \"mlflow_version\": \"2.9.2\", \"model_size_bytes\": 19}]', 'Prediction': '1'}\n",
      "run id:b8360bc5d0794087a24da537c19a352d,tags: {'mlflow.user': 'ubuntu', 'mlflow.source.name': '/home/ubuntu/miniconda3/lib/python3.11/site-packages/ipykernel_launcher.py', 'mlflow.source.type': 'LOCAL', 'mlflow.runName': 'silent-toad-358', 'Model': 'lightgbm', 'mlflow.log-model.history': '[{\"run_id\": \"b8360bc5d0794087a24da537c19a352d\", \"artifact_path\": \"models\", \"utc_time_created\": \"2024-01-31 13:51:03.202038\", \"flavors\": {\"sklearn\": {\"pickled_model\": \"model.pkl\", \"sklearn_version\": \"1.3.2\", \"serialization_format\": \"cloudpickle\", \"code\": null}}, \"model_uuid\": \"4c690a7c3eb040e9bd254e1ef6a29c6a\", \"mlflow_version\": \"2.9.2\", \"model_size_bytes\": 19}]'}\n",
      "run id:aa73bf03381644859c6bad292094136d,tags: {'mlflow.user': 'ubuntu', 'mlflow.source.name': '/home/ubuntu/miniconda3/lib/python3.11/site-packages/ipykernel_launcher.py', 'mlflow.source.type': 'LOCAL', 'mlflow.runName': 'nimble-snipe-3', 'Model': 'lightgbm', 'mlflow.log-model.history': '[{\"run_id\": \"aa73bf03381644859c6bad292094136d\", \"artifact_path\": \"models\", \"utc_time_created\": \"2024-01-31 13:50:25.612600\", \"flavors\": {\"sklearn\": {\"pickled_model\": \"model.pkl\", \"sklearn_version\": \"1.3.2\", \"serialization_format\": \"cloudpickle\", \"code\": null}}, \"model_uuid\": \"75ec844f231943189f309b5b015d0719\", \"mlflow_version\": \"2.9.2\", \"model_size_bytes\": 19}]'}\n",
      "run id:de0a539f12e34f5fb4f24f9fc89d71ec,tags: {'mlflow.user': 'ubuntu', 'mlflow.source.name': '/home/ubuntu/miniconda3/lib/python3.11/site-packages/ipykernel_launcher.py', 'mlflow.source.type': 'LOCAL', 'mlflow.runName': 'thoughtful-zebra-554', 'Model': 'lightgbm'}\n",
      "run id:dc68dcc8e50b424da6e0b318a5a9c6e2,tags: {'mlflow.user': 'ubuntu', 'mlflow.source.name': '/home/ubuntu/miniconda3/lib/python3.11/site-packages/ipykernel_launcher.py', 'mlflow.source.type': 'LOCAL', 'mlflow.runName': 'zealous-snail-505'}\n"
     ]
    }
   ],
   "source": [
    "for run in runs:\n",
    "    print(f\"run id:{run.info.run_id},tags: {run.data.tags}\")"
   ]
  },
  {
   "cell_type": "code",
   "execution_count": 77,
   "metadata": {},
   "outputs": [
    {
     "name": "stderr",
     "output_type": "stream",
     "text": [
      "Registered model 'first_prediction_model' already exists. Creating a new version of this model...\n",
      "2024/01/31 14:21:08 INFO mlflow.store.model_registry.abstract_store: Waiting up to 300 seconds for model version to finish creation. Model name: first_prediction_model, version 1\n",
      "Created version '1' of model 'first_prediction_model'.\n"
     ]
    },
    {
     "data": {
      "text/plain": [
       "<ModelVersion: aliases=[], creation_timestamp=1706710868977, current_stage='None', description='', last_updated_timestamp=1706710868977, name='first_prediction_model', run_id='b8360bc5d0794087a24da537c19a352d', run_link='', source='mlflow-artifacts:/3/b8360bc5d0794087a24da537c19a352d/artifacts/model', status='READY', status_message='', tags={}, user_id='', version='1'>"
      ]
     },
     "execution_count": 77,
     "metadata": {},
     "output_type": "execute_result"
    }
   ],
   "source": [
    "# interacting with the models registry\n",
    "\n",
    "run_id = 'b8360bc5d0794087a24da537c19a352d'\n",
    "model_uri = f\"runs:/{run_id}/model\"\n",
    "mlflow.register_model(model_uri=model_uri, name=\"first_prediction_model\")"
   ]
  },
  {
   "cell_type": "code",
   "execution_count": 79,
   "metadata": {},
   "outputs": [
    {
     "name": "stderr",
     "output_type": "stream",
     "text": [
      "/tmp/ipykernel_2112/3446462618.py:3: FutureWarning: ``mlflow.tracking.client.MlflowClient.transition_model_version_stage`` is deprecated since 2.9.0. Model registry stages will be removed in a future major release. To learn more about the deprecation of model registry stages, see our migration guide here: https://mlflow.org/docs/2.9.2/model-registry.html#migrating-from-stages\n",
      "  client.transition_model_version_stage(\n"
     ]
    },
    {
     "data": {
      "text/plain": [
       "<ModelVersion: aliases=['new', 'production'], creation_timestamp=1706710868977, current_stage='Staging', description='', last_updated_timestamp=1706711119036, name='first_prediction_model', run_id='b8360bc5d0794087a24da537c19a352d', run_link='', source='mlflow-artifacts:/3/b8360bc5d0794087a24da537c19a352d/artifacts/model', status='READY', status_message='', tags={}, user_id='', version='1'>"
      ]
     },
     "execution_count": 79,
     "metadata": {},
     "output_type": "execute_result"
    }
   ],
   "source": [
    "model_name = \"first_prediction_model\"\n",
    "new_stage = \"staging\"\n",
    "client.transition_model_version_stage(\n",
    "    name=model_name,\n",
    "    version=1,\n",
    "    stage=new_stage,\n",
    "    archive_existing_versions=True\n",
    ")"
   ]
  },
  {
   "cell_type": "code",
   "execution_count": null,
   "metadata": {},
   "outputs": [],
   "source": []
  }
 ],
 "metadata": {
  "kernelspec": {
   "display_name": "base",
   "language": "python",
   "name": "python3"
  },
  "language_info": {
   "codemirror_mode": {
    "name": "ipython",
    "version": 3
   },
   "file_extension": ".py",
   "mimetype": "text/x-python",
   "name": "python",
   "nbconvert_exporter": "python",
   "pygments_lexer": "ipython3",
   "version": "3.11.5"
  }
 },
 "nbformat": 4,
 "nbformat_minor": 2
}
