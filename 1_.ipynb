{
 "cells": [
  {
   "cell_type": "code",
   "execution_count": 19,
   "metadata": {},
   "outputs": [
    {
     "name": "stderr",
     "output_type": "stream",
     "text": [
      "WARNING:root:Requests made without an app_token will be subject to strict throttling limits.\n"
     ]
    }
   ],
   "source": [
    "from sodapy import Socrata\n",
    "\n",
    "client = Socrata(\"data.cityofnewyork.us\",None)"
   ]
  },
  {
   "cell_type": "code",
   "execution_count": 28,
   "metadata": {},
   "outputs": [],
   "source": [
    "results = client.get(\"nc67-uf89\",limit=100000)"
   ]
  },
  {
   "cell_type": "code",
   "execution_count": 29,
   "metadata": {},
   "outputs": [
    {
     "data": {
      "text/plain": [
       "dict_keys(['plate', 'state', 'license_type', 'summons_number', 'issue_date', 'violation_time', 'violation', 'fine_amount', 'penalty_amount', 'interest_amount', 'reduction_amount', 'payment_amount', 'amount_due', 'precinct', 'county', 'issuing_agency', 'summons_image'])"
      ]
     },
     "execution_count": 29,
     "metadata": {},
     "output_type": "execute_result"
    }
   ],
   "source": [
    "results[0].keys()"
   ]
  },
  {
   "cell_type": "code",
   "execution_count": 30,
   "metadata": {},
   "outputs": [],
   "source": [
    "import pandas as pd\n",
    "data = pl.DataFrame(results, schema=results[0].keys())"
   ]
  },
  {
   "cell_type": "code",
   "execution_count": 31,
   "metadata": {},
   "outputs": [
    {
     "data": {
      "text/html": [
       "<div><style>\n",
       ".dataframe > thead > tr,\n",
       ".dataframe > tbody > tr {\n",
       "  text-align: right;\n",
       "  white-space: pre-wrap;\n",
       "}\n",
       "</style>\n",
       "<small>shape: (5, 17)</small><table border=\"1\" class=\"dataframe\"><thead><tr><th>plate</th><th>state</th><th>license_type</th><th>summons_number</th><th>issue_date</th><th>violation_time</th><th>violation</th><th>fine_amount</th><th>penalty_amount</th><th>interest_amount</th><th>reduction_amount</th><th>payment_amount</th><th>amount_due</th><th>precinct</th><th>county</th><th>issuing_agency</th><th>summons_image</th></tr><tr><td>str</td><td>str</td><td>str</td><td>str</td><td>str</td><td>str</td><td>str</td><td>str</td><td>str</td><td>str</td><td>str</td><td>str</td><td>str</td><td>str</td><td>str</td><td>str</td><td>struct[2]</td></tr></thead><tbody><tr><td>&quot;VMD91K&quot;</td><td>&quot;NJ&quot;</td><td>&quot;PAS&quot;</td><td>&quot;4641235673&quot;</td><td>&quot;12/18/2017&quot;</td><td>&quot;12:52P&quot;</td><td>&quot;PHTO SCHOOL ZN…</td><td>&quot;50&quot;</td><td>&quot;0&quot;</td><td>&quot;0&quot;</td><td>&quot;0&quot;</td><td>&quot;50&quot;</td><td>&quot;0&quot;</td><td>&quot;000&quot;</td><td>&quot;BK&quot;</td><td>&quot;DEPARTMENT OF …</td><td>{&quot;http://nycserv.nyc.gov/NYCServWeb/ShowImage?searchID=VGtSWk1FMVVTWHBPVkZrelRYYzlQUT09&amp;locationName=_____________________&quot;,&quot;View Summons&quot;}</td></tr><tr><td>&quot;XFBC18&quot;</td><td>&quot;NJ&quot;</td><td>&quot;PAS&quot;</td><td>&quot;4648791691&quot;</td><td>&quot;10/12/2018&quot;</td><td>&quot;01:42P&quot;</td><td>&quot;PHTO SCHOOL ZN…</td><td>&quot;50&quot;</td><td>&quot;0&quot;</td><td>&quot;0&quot;</td><td>&quot;0&quot;</td><td>&quot;50&quot;</td><td>&quot;0&quot;</td><td>&quot;000&quot;</td><td>&quot;ST&quot;</td><td>&quot;DEPARTMENT OF …</td><td>{&quot;http://nycserv.nyc.gov/NYCServWeb/ShowImage?searchID=VGtSWk1FOUVZelZOVkZrMVRWRTlQUT09&amp;locationName=_____________________&quot;,&quot;View Summons&quot;}</td></tr><tr><td>&quot;92306MG&quot;</td><td>&quot;NY&quot;</td><td>&quot;COM&quot;</td><td>&quot;8740105090&quot;</td><td>&quot;06/06/2019&quot;</td><td>&quot;08:22A&quot;</td><td>&quot;NO STANDING-DA…</td><td>&quot;115&quot;</td><td>&quot;0&quot;</td><td>&quot;0&quot;</td><td>&quot;0&quot;</td><td>&quot;115&quot;</td><td>&quot;0&quot;</td><td>&quot;018&quot;</td><td>&quot;NY&quot;</td><td>&quot;TRAFFIC&quot;</td><td>{&quot;http://nycserv.nyc.gov/NYCServWeb/ShowImage?searchID=VDBSak1FMUVSWGRPVkVFMVRVRTlQUT09&amp;locationName=_____________________&quot;,&quot;View Summons&quot;}</td></tr><tr><td>&quot;XEGS65&quot;</td><td>&quot;NJ&quot;</td><td>&quot;PAS&quot;</td><td>&quot;8740105120&quot;</td><td>&quot;06/06/2019&quot;</td><td>&quot;08:26A&quot;</td><td>&quot;NO STANDING-DA…</td><td>&quot;115&quot;</td><td>&quot;0&quot;</td><td>&quot;0&quot;</td><td>&quot;0&quot;</td><td>&quot;115&quot;</td><td>&quot;0&quot;</td><td>&quot;018&quot;</td><td>&quot;NY&quot;</td><td>&quot;TRAFFIC&quot;</td><td>{&quot;http://nycserv.nyc.gov/NYCServWeb/ShowImage?searchID=VDBSak1FMUVSWGRPVkVWNVRVRTlQUT09&amp;locationName=_____________________&quot;,&quot;View Summons&quot;}</td></tr><tr><td>&quot;GEN6029&quot;</td><td>&quot;NY&quot;</td><td>&quot;PAS&quot;</td><td>&quot;4641283205&quot;</td><td>&quot;12/20/2017&quot;</td><td>&quot;11:10A&quot;</td><td>&quot;PHTO SCHOOL ZN…</td><td>&quot;50&quot;</td><td>&quot;25&quot;</td><td>&quot;0&quot;</td><td>&quot;0&quot;</td><td>&quot;75&quot;</td><td>&quot;0&quot;</td><td>&quot;000&quot;</td><td>&quot;BK&quot;</td><td>&quot;DEPARTMENT OF …</td><td>{&quot;http://nycserv.nyc.gov/NYCServWeb/ShowImage?searchID=VGtSWk1FMVVTVFJOZWtsM1RsRTlQUT09&amp;locationName=_____________________&quot;,&quot;View Summons&quot;}</td></tr></tbody></table></div>"
      ],
      "text/plain": [
       "shape: (5, 17)\n",
       "┌─────────┬───────┬──────────────┬─────────────┬───┬──────────┬────────┬─────────────┬─────────────┐\n",
       "│ plate   ┆ state ┆ license_type ┆ summons_num ┆ … ┆ precinct ┆ county ┆ issuing_age ┆ summons_ima │\n",
       "│ ---     ┆ ---   ┆ ---          ┆ ber         ┆   ┆ ---      ┆ ---    ┆ ncy         ┆ ge          │\n",
       "│ str     ┆ str   ┆ str          ┆ ---         ┆   ┆ str      ┆ str    ┆ ---         ┆ ---         │\n",
       "│         ┆       ┆              ┆ str         ┆   ┆          ┆        ┆ str         ┆ struct[2]   │\n",
       "╞═════════╪═══════╪══════════════╪═════════════╪═══╪══════════╪════════╪═════════════╪═════════════╡\n",
       "│ VMD91K  ┆ NJ    ┆ PAS          ┆ 4641235673  ┆ … ┆ 000      ┆ BK     ┆ DEPARTMENT  ┆ {\"http://ny │\n",
       "│         ┆       ┆              ┆             ┆   ┆          ┆        ┆ OF TRANSPOR ┆ cserv.nyc.g │\n",
       "│         ┆       ┆              ┆             ┆   ┆          ┆        ┆ TATION      ┆ ov/NYCServ… │\n",
       "│ XFBC18  ┆ NJ    ┆ PAS          ┆ 4648791691  ┆ … ┆ 000      ┆ ST     ┆ DEPARTMENT  ┆ {\"http://ny │\n",
       "│         ┆       ┆              ┆             ┆   ┆          ┆        ┆ OF TRANSPOR ┆ cserv.nyc.g │\n",
       "│         ┆       ┆              ┆             ┆   ┆          ┆        ┆ TATION      ┆ ov/NYCServ… │\n",
       "│ 92306MG ┆ NY    ┆ COM          ┆ 8740105090  ┆ … ┆ 018      ┆ NY     ┆ TRAFFIC     ┆ {\"http://ny │\n",
       "│         ┆       ┆              ┆             ┆   ┆          ┆        ┆             ┆ cserv.nyc.g │\n",
       "│         ┆       ┆              ┆             ┆   ┆          ┆        ┆             ┆ ov/NYCServ… │\n",
       "│ XEGS65  ┆ NJ    ┆ PAS          ┆ 8740105120  ┆ … ┆ 018      ┆ NY     ┆ TRAFFIC     ┆ {\"http://ny │\n",
       "│         ┆       ┆              ┆             ┆   ┆          ┆        ┆             ┆ cserv.nyc.g │\n",
       "│         ┆       ┆              ┆             ┆   ┆          ┆        ┆             ┆ ov/NYCServ… │\n",
       "│ GEN6029 ┆ NY    ┆ PAS          ┆ 4641283205  ┆ … ┆ 000      ┆ BK     ┆ DEPARTMENT  ┆ {\"http://ny │\n",
       "│         ┆       ┆              ┆             ┆   ┆          ┆        ┆ OF TRANSPOR ┆ cserv.nyc.g │\n",
       "│         ┆       ┆              ┆             ┆   ┆          ┆        ┆ TATION      ┆ ov/NYCServ… │\n",
       "└─────────┴───────┴──────────────┴─────────────┴───┴──────────┴────────┴─────────────┴─────────────┘"
      ]
     },
     "execution_count": 31,
     "metadata": {},
     "output_type": "execute_result"
    }
   ],
   "source": [
    "data.head()"
   ]
  },
  {
   "cell_type": "code",
   "execution_count": 32,
   "metadata": {},
   "outputs": [
    {
     "data": {
      "text/plain": [
       "(100000, 17)"
      ]
     },
     "execution_count": 32,
     "metadata": {},
     "output_type": "execute_result"
    }
   ],
   "source": [
    "data.shape"
   ]
  },
  {
   "cell_type": "code",
   "execution_count": 12,
   "metadata": {},
   "outputs": [
    {
     "data": {
      "text/html": [
       "<div><style>\n",
       ".dataframe > thead > tr,\n",
       ".dataframe > tbody > tr {\n",
       "  text-align: right;\n",
       "  white-space: pre-wrap;\n",
       "}\n",
       "</style>\n",
       "<small>shape: (1, 19)</small><table border=\"1\" class=\"dataframe\"><thead><tr><th>plate</th><th>state</th><th>license_type</th><th>summons_number</th><th>issue_date</th><th>violation_time</th><th>violation</th><th>judgment_entry_date</th><th>fine_amount</th><th>penalty_amount</th><th>interest_amount</th><th>reduction_amount</th><th>payment_amount</th><th>amount_due</th><th>precinct</th><th>county</th><th>issuing_agency</th><th>violation_status</th><th>summons_image</th></tr><tr><td>u32</td><td>u32</td><td>u32</td><td>u32</td><td>u32</td><td>u32</td><td>u32</td><td>u32</td><td>u32</td><td>u32</td><td>u32</td><td>u32</td><td>u32</td><td>u32</td><td>u32</td><td>u32</td><td>u32</td><td>u32</td><td>u32</td></tr></thead><tbody><tr><td>0</td><td>0</td><td>0</td><td>0</td><td>0</td><td>190</td><td>190</td><td>798</td><td>190</td><td>190</td><td>190</td><td>190</td><td>190</td><td>190</td><td>190</td><td>195</td><td>190</td><td>859</td><td>0</td></tr></tbody></table></div>"
      ],
      "text/plain": [
       "shape: (1, 19)\n",
       "┌───────┬───────┬─────────────┬─────────────┬───┬────────┬─────────────┬─────────────┬─────────────┐\n",
       "│ plate ┆ state ┆ license_typ ┆ summons_num ┆ … ┆ county ┆ issuing_age ┆ violation_s ┆ summons_ima │\n",
       "│ ---   ┆ ---   ┆ e           ┆ ber         ┆   ┆ ---    ┆ ncy         ┆ tatus       ┆ ge          │\n",
       "│ u32   ┆ u32   ┆ ---         ┆ ---         ┆   ┆ u32    ┆ ---         ┆ ---         ┆ ---         │\n",
       "│       ┆       ┆ u32         ┆ u32         ┆   ┆        ┆ u32         ┆ u32         ┆ u32         │\n",
       "╞═══════╪═══════╪═════════════╪═════════════╪═══╪════════╪═════════════╪═════════════╪═════════════╡\n",
       "│ 0     ┆ 0     ┆ 0           ┆ 0           ┆ … ┆ 195    ┆ 190         ┆ 859         ┆ 0           │\n",
       "└───────┴───────┴─────────────┴─────────────┴───┴────────┴─────────────┴─────────────┴─────────────┘"
      ]
     },
     "execution_count": 12,
     "metadata": {},
     "output_type": "execute_result"
    }
   ],
   "source": [
    "data.null_count()"
   ]
  },
  {
   "cell_type": "code",
   "execution_count": null,
   "metadata": {},
   "outputs": [],
   "source": []
  }
 ],
 "metadata": {
  "kernelspec": {
   "display_name": "base",
   "language": "python",
   "name": "python3"
  },
  "language_info": {
   "codemirror_mode": {
    "name": "ipython",
    "version": 3
   },
   "file_extension": ".py",
   "mimetype": "text/x-python",
   "name": "python",
   "nbconvert_exporter": "python",
   "pygments_lexer": "ipython3",
   "version": "3.11.5"
  }
 },
 "nbformat": 4,
 "nbformat_minor": 2
}
